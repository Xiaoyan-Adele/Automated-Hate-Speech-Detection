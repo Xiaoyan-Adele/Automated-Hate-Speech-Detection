{
  "nbformat": 4,
  "nbformat_minor": 0,
  "metadata": {
    "colab": {
      "name": "DataPreprocessing_Colab.ipynb",
      "provenance": [],
      "collapsed_sections": [],
      "authorship_tag": "ABX9TyMdCiZQDzNNkC69SOIZ2gvv",
      "include_colab_link": true
    },
    "kernelspec": {
      "name": "python3",
      "display_name": "Python 3"
    }
  },
  "cells": [
    {
      "cell_type": "markdown",
      "metadata": {
        "id": "view-in-github",
        "colab_type": "text"
      },
      "source": [
        "<a href=\"https://colab.research.google.com/github/Xiaoyan-Adele/Automated-Hate-Speech-Detection/blob/master/DataPreprocessing_Colab.ipynb\" target=\"_parent\"><img src=\"https://colab.research.google.com/assets/colab-badge.svg\" alt=\"Open In Colab\"/></a>"
      ]
    },
    {
      "cell_type": "markdown",
      "metadata": {
        "id": "E3vhgTvgvBiV",
        "colab_type": "text"
      },
      "source": [
        "This is the colab version of the data proprocesin code. The goal of this part is to generate a cleaned version of the sample tweets and reload it back ot the oriiginal csv file. Thus it is a prepatory work for the later deep learning modeling.  "
      ]
    },
    {
      "cell_type": "markdown",
      "metadata": {
        "id": "OHd-gtm9vzPR",
        "colab_type": "text"
      },
      "source": [
        "##setting up"
      ]
    },
    {
      "cell_type": "code",
      "metadata": {
        "id": "yKleFpr2u6vw",
        "colab_type": "code",
        "colab": {
          "base_uri": "https://localhost:8080/",
          "height": 198
        },
        "outputId": "20a002c7-74ab-492b-c0b3-d49f22fbeb7e"
      },
      "source": [
        "import nltk\n",
        "nltk.download('stopwords')\n",
        "nltk.download('wordnet')\n",
        "nltk.download('punkt')\n",
        "nltk.download('averaged_perceptron_tagger') \n",
        "\n",
        "import pandas as pd\n",
        "import matplotlib.pyplot as plt\n",
        "import io\n",
        "import unicodedata\n",
        "import numpy as np\n",
        "import re\n",
        "import string"
      ],
      "execution_count": 22,
      "outputs": [
        {
          "output_type": "stream",
          "text": [
            "[nltk_data] Downloading package stopwords to /root/nltk_data...\n",
            "[nltk_data]   Package stopwords is already up-to-date!\n",
            "[nltk_data] Downloading package wordnet to /root/nltk_data...\n",
            "[nltk_data]   Package wordnet is already up-to-date!\n",
            "[nltk_data] Downloading package punkt to /root/nltk_data...\n",
            "[nltk_data]   Package punkt is already up-to-date!\n",
            "[nltk_data] Downloading package averaged_perceptron_tagger to\n",
            "[nltk_data]     /root/nltk_data...\n",
            "[nltk_data]   Package averaged_perceptron_tagger is already up-to-\n",
            "[nltk_data]       date!\n"
          ],
          "name": "stdout"
        }
      ]
    },
    {
      "cell_type": "markdown",
      "metadata": {
        "id": "G3z3C7hkv_sT",
        "colab_type": "text"
      },
      "source": [
        "##Load the corpus file form Google Drive into Colab\n"
      ]
    },
    {
      "cell_type": "code",
      "metadata": {
        "id": "gbWFnJl4wFD2",
        "colab_type": "code",
        "colab": {
          "base_uri": "https://localhost:8080/",
          "height": 125
        },
        "outputId": "a22728a9-7c59-44fc-987b-20e73f492898"
      },
      "source": [
        "# Get dataframe of the tweets in the labeled dataset \n",
        "df_tweets = pd.read_csv('labeled_data.csv',encoding = 'utf-8',sep=',',index_col=0)\n",
        "\n",
        "#selecting the right column for data preprocessing \n",
        "tweets_pd_raw = df_tweets.iloc[:,5]\n",
        "\n",
        "#inspecting the selected column\n",
        "tweets_pd_raw.head(5)"
      ],
      "execution_count": 23,
      "outputs": [
        {
          "output_type": "execute_result",
          "data": {
            "text/plain": [
              "0    !!! RT @mayasolovely: As a woman you shouldn't...\n",
              "1    !!!!! RT @mleew17: boy dats cold...tyga dwn ba...\n",
              "2    !!!!!!! RT @UrKindOfBrand Dawg!!!! RT @80sbaby...\n",
              "3    !!!!!!!!! RT @C_G_Anderson: @viva_based she lo...\n",
              "4    !!!!!!!!!!!!! RT @ShenikaRoberts: The shit you...\n",
              "Name: tweet, dtype: object"
            ]
          },
          "metadata": {
            "tags": []
          },
          "execution_count": 23
        }
      ]
    },
    {
      "cell_type": "markdown",
      "metadata": {
        "id": "XNP2mFPwmTE-",
        "colab_type": "text"
      },
      "source": [
        "##Replace, tokenize sentences and words, remove stopwords, use stemmer & lemmatizer\n",
        "\n"
      ]
    },
    {
      "cell_type": "code",
      "metadata": {
        "id": "_GNZ9CPmmSG9",
        "colab_type": "code",
        "colab": {
          "base_uri": "https://localhost:8080/",
          "height": 242
        },
        "outputId": "fa5a5151-5c47-46a7-f970-517bca3c6d18"
      },
      "source": [
        "#setting up the libaries\n",
        "from nltk.corpus import stopwords\n",
        "from nltk.stem.porter import *\n",
        "stop = stopwords.words('english')\n",
        "\n",
        "#replacing urls, excessive whitespaces, and mentions\n",
        "def replacing(text):\n",
        "  space_pattern = '\\s+'\n",
        "  giant_url_regex = ('http[s]?://(?:[a-zA-Z]|[0-9]|[$-_@.&+]|'\n",
        "        '[!*\\(\\),]|(?:%[0-9a-fA-F][0-9a-fA-F]))+')\n",
        "  mention_regex = '@[\\w\\-]+'\n",
        "  replaced_text = re.sub(space_pattern, ' ', text)\n",
        "  replaced_text = re.sub(giant_url_regex, '', replaced_text)\n",
        "  replaced_text = re.sub(mention_regex, '', replaced_text)\n",
        "  return replaced_text\n",
        "\n",
        "tweets_pd_replaced = tweets_pd_raw.apply(replacing)\n",
        "\n",
        "#tokenize the text and remove punctuations, set to lowercase and\n",
        "#return a list of tokenized text\n",
        "def tokenization(text):\n",
        "  tokenized_text = \" \".join(re.split(\"[^a-zA-Z]*\", text.lower())).strip()\n",
        "  return tokenized_text\n",
        "\n",
        "tweets_tokenized = tweets_pd_replaced.apply(tokenization)\n",
        "\n",
        "#stem the tokenized text\n",
        "stemmer = PorterStemmer()\n",
        "def stem(text):\n",
        "  stemmed = [stemmer.stem(t) for t in text.split()]\n",
        "  return stemmed\n",
        "\n",
        "tweets_stemmed = tweets_tokenized.apply(stem)\n",
        "\n",
        "#paste the processed text back to the labeled dataset\n",
        "df_tweets.iloc[:,5] = tweets_stemmed.values\n",
        "\n",
        "df_tweets.head(5)\n"
      ],
      "execution_count": 24,
      "outputs": [
        {
          "output_type": "stream",
          "text": [
            "/usr/lib/python3.6/re.py:212: FutureWarning: split() requires a non-empty pattern match.\n",
            "  return _compile(pattern, flags).split(string, maxsplit)\n"
          ],
          "name": "stderr"
        },
        {
          "output_type": "execute_result",
          "data": {
            "text/html": [
              "<div>\n",
              "<style scoped>\n",
              "    .dataframe tbody tr th:only-of-type {\n",
              "        vertical-align: middle;\n",
              "    }\n",
              "\n",
              "    .dataframe tbody tr th {\n",
              "        vertical-align: top;\n",
              "    }\n",
              "\n",
              "    .dataframe thead th {\n",
              "        text-align: right;\n",
              "    }\n",
              "</style>\n",
              "<table border=\"1\" class=\"dataframe\">\n",
              "  <thead>\n",
              "    <tr style=\"text-align: right;\">\n",
              "      <th></th>\n",
              "      <th>count</th>\n",
              "      <th>hate_speech</th>\n",
              "      <th>offensive_language</th>\n",
              "      <th>neither</th>\n",
              "      <th>class</th>\n",
              "      <th>tweet</th>\n",
              "    </tr>\n",
              "  </thead>\n",
              "  <tbody>\n",
              "    <tr>\n",
              "      <th>0</th>\n",
              "      <td>3</td>\n",
              "      <td>0</td>\n",
              "      <td>0</td>\n",
              "      <td>3</td>\n",
              "      <td>2</td>\n",
              "      <td>[rt, as, a, woman, you, shouldn, t, complain, ...</td>\n",
              "    </tr>\n",
              "    <tr>\n",
              "      <th>1</th>\n",
              "      <td>3</td>\n",
              "      <td>0</td>\n",
              "      <td>3</td>\n",
              "      <td>0</td>\n",
              "      <td>1</td>\n",
              "      <td>[rt, boy, dat, cold, tyga, dwn, bad, for, cuff...</td>\n",
              "    </tr>\n",
              "    <tr>\n",
              "      <th>2</th>\n",
              "      <td>3</td>\n",
              "      <td>0</td>\n",
              "      <td>3</td>\n",
              "      <td>0</td>\n",
              "      <td>1</td>\n",
              "      <td>[rt, dawg, rt, you, ever, fuck, a, bitch, and,...</td>\n",
              "    </tr>\n",
              "    <tr>\n",
              "      <th>3</th>\n",
              "      <td>3</td>\n",
              "      <td>0</td>\n",
              "      <td>2</td>\n",
              "      <td>1</td>\n",
              "      <td>1</td>\n",
              "      <td>[rt, she, look, like, a, tranni]</td>\n",
              "    </tr>\n",
              "    <tr>\n",
              "      <th>4</th>\n",
              "      <td>6</td>\n",
              "      <td>0</td>\n",
              "      <td>6</td>\n",
              "      <td>0</td>\n",
              "      <td>1</td>\n",
              "      <td>[rt, the, shit, you, hear, about, me, might, b...</td>\n",
              "    </tr>\n",
              "  </tbody>\n",
              "</table>\n",
              "</div>"
            ],
            "text/plain": [
              "   count  hate_speech  ...  class                                              tweet\n",
              "0      3            0  ...      2  [rt, as, a, woman, you, shouldn, t, complain, ...\n",
              "1      3            0  ...      1  [rt, boy, dat, cold, tyga, dwn, bad, for, cuff...\n",
              "2      3            0  ...      1  [rt, dawg, rt, you, ever, fuck, a, bitch, and,...\n",
              "3      3            0  ...      1                   [rt, she, look, like, a, tranni]\n",
              "4      6            0  ...      1  [rt, the, shit, you, hear, about, me, might, b...\n",
              "\n",
              "[5 rows x 6 columns]"
            ]
          },
          "metadata": {
            "tags": []
          },
          "execution_count": 24
        }
      ]
    },
    {
      "cell_type": "markdown",
      "metadata": {
        "id": "q3ROVgLZKxJB",
        "colab_type": "text"
      },
      "source": [
        "##Using the Tfidf Matrix to generate the Features of our Corpus"
      ]
    },
    {
      "cell_type": "code",
      "metadata": {
        "id": "z2cOl4GGKwVn",
        "colab_type": "code",
        "colab": {}
      },
      "source": [
        ""
      ],
      "execution_count": 0,
      "outputs": []
    }
  ]
}