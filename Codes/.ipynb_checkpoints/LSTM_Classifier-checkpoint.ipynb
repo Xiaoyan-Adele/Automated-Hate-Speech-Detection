{
 "cells": [
  {
   "cell_type": "markdown",
   "metadata": {
    "colab_type": "text",
    "id": "view-in-github"
   },
   "source": [
    "<a href=\"https://colab.research.google.com/github/Xiaoyan-Adele/Automated-Hate-Speech-Detection/blob/master/Codes/LSTM_Classifier.ipynb\" target=\"_parent\"><img src=\"https://colab.research.google.com/assets/colab-badge.svg\" alt=\"Open In Colab\"/></a>"
   ]
  },
  {
   "cell_type": "markdown",
   "metadata": {
    "colab_type": "text",
    "id": "OHd-gtm9vzPR"
   },
   "source": [
    "# 1. Setting up"
   ]
  },
  {
   "cell_type": "code",
   "execution_count": null,
   "metadata": {
    "colab": {
     "base_uri": "https://localhost:8080/",
     "height": 428
    },
    "colab_type": "code",
    "id": "gGpCXZwmJ9Ip",
    "outputId": "514f74dd-71c8-4133-c81d-98a253c218d7"
   },
   "outputs": [
    {
     "name": "stdout",
     "output_type": "stream",
     "text": [
      "Requirement already satisfied: en_core_web_lg==2.2.5 from https://github.com/explosion/spacy-models/releases/download/en_core_web_lg-2.2.5/en_core_web_lg-2.2.5.tar.gz#egg=en_core_web_lg==2.2.5 in /usr/local/lib/python3.6/dist-packages (2.2.5)\n",
      "Requirement already satisfied: spacy>=2.2.2 in /usr/local/lib/python3.6/dist-packages (from en_core_web_lg==2.2.5) (2.2.4)\n",
      "Requirement already satisfied: cymem<2.1.0,>=2.0.2 in /usr/local/lib/python3.6/dist-packages (from spacy>=2.2.2->en_core_web_lg==2.2.5) (2.0.3)\n",
      "Requirement already satisfied: wasabi<1.1.0,>=0.4.0 in /usr/local/lib/python3.6/dist-packages (from spacy>=2.2.2->en_core_web_lg==2.2.5) (0.6.0)\n",
      "Requirement already satisfied: numpy>=1.15.0 in /usr/local/lib/python3.6/dist-packages (from spacy>=2.2.2->en_core_web_lg==2.2.5) (1.18.3)\n",
      "Requirement already satisfied: blis<0.5.0,>=0.4.0 in /usr/local/lib/python3.6/dist-packages (from spacy>=2.2.2->en_core_web_lg==2.2.5) (0.4.1)\n",
      "Requirement already satisfied: catalogue<1.1.0,>=0.0.7 in /usr/local/lib/python3.6/dist-packages (from spacy>=2.2.2->en_core_web_lg==2.2.5) (1.0.0)\n",
      "Requirement already satisfied: thinc==7.4.0 in /usr/local/lib/python3.6/dist-packages (from spacy>=2.2.2->en_core_web_lg==2.2.5) (7.4.0)\n",
      "Requirement already satisfied: murmurhash<1.1.0,>=0.28.0 in /usr/local/lib/python3.6/dist-packages (from spacy>=2.2.2->en_core_web_lg==2.2.5) (1.0.2)\n",
      "Requirement already satisfied: setuptools in /usr/local/lib/python3.6/dist-packages (from spacy>=2.2.2->en_core_web_lg==2.2.5) (46.1.3)\n",
      "Requirement already satisfied: plac<1.2.0,>=0.9.6 in /usr/local/lib/python3.6/dist-packages (from spacy>=2.2.2->en_core_web_lg==2.2.5) (1.1.3)\n",
      "Requirement already satisfied: requests<3.0.0,>=2.13.0 in /usr/local/lib/python3.6/dist-packages (from spacy>=2.2.2->en_core_web_lg==2.2.5) (2.21.0)\n",
      "Requirement already satisfied: srsly<1.1.0,>=1.0.2 in /usr/local/lib/python3.6/dist-packages (from spacy>=2.2.2->en_core_web_lg==2.2.5) (1.0.2)\n",
      "Requirement already satisfied: tqdm<5.0.0,>=4.38.0 in /usr/local/lib/python3.6/dist-packages (from spacy>=2.2.2->en_core_web_lg==2.2.5) (4.38.0)\n",
      "Requirement already satisfied: preshed<3.1.0,>=3.0.2 in /usr/local/lib/python3.6/dist-packages (from spacy>=2.2.2->en_core_web_lg==2.2.5) (3.0.2)\n",
      "Requirement already satisfied: importlib-metadata>=0.20; python_version < \"3.8\" in /usr/local/lib/python3.6/dist-packages (from catalogue<1.1.0,>=0.0.7->spacy>=2.2.2->en_core_web_lg==2.2.5) (1.6.0)\n",
      "Requirement already satisfied: idna<2.9,>=2.5 in /usr/local/lib/python3.6/dist-packages (from requests<3.0.0,>=2.13.0->spacy>=2.2.2->en_core_web_lg==2.2.5) (2.8)\n",
      "Requirement already satisfied: chardet<3.1.0,>=3.0.2 in /usr/local/lib/python3.6/dist-packages (from requests<3.0.0,>=2.13.0->spacy>=2.2.2->en_core_web_lg==2.2.5) (3.0.4)\n",
      "Requirement already satisfied: urllib3<1.25,>=1.21.1 in /usr/local/lib/python3.6/dist-packages (from requests<3.0.0,>=2.13.0->spacy>=2.2.2->en_core_web_lg==2.2.5) (1.24.3)\n",
      "Requirement already satisfied: certifi>=2017.4.17 in /usr/local/lib/python3.6/dist-packages (from requests<3.0.0,>=2.13.0->spacy>=2.2.2->en_core_web_lg==2.2.5) (2020.4.5.1)\n",
      "Requirement already satisfied: zipp>=0.5 in /usr/local/lib/python3.6/dist-packages (from importlib-metadata>=0.20; python_version < \"3.8\"->catalogue<1.1.0,>=0.0.7->spacy>=2.2.2->en_core_web_lg==2.2.5) (3.1.0)\n",
      "\u001b[38;5;2m✔ Download and installation successful\u001b[0m\n",
      "You can now load the model via spacy.load('en_core_web_lg')\n"
     ]
    }
   ],
   "source": [
    "!python -m spacy download en_core_web_lg\n",
    "!pip install torch<=1.2.0\n",
    "!pip install torchtext\n",
    "%matplotlib inline"
   ]
  },
  {
   "cell_type": "code",
   "execution_count": null,
   "metadata": {
    "colab": {
     "base_uri": "https://localhost:8080/",
     "height": 224
    },
    "colab_type": "code",
    "id": "yKleFpr2u6vw",
    "outputId": "36a29bb5-6c39-4066-8157-164021701952"
   },
   "outputs": [
    {
     "name": "stderr",
     "output_type": "stream",
     "text": [
      "/usr/local/lib/python3.6/dist-packages/statsmodels/tools/_testing.py:19: FutureWarning: pandas.util.testing is deprecated. Use the functions in the public API at pandas.testing instead.\n",
      "  import pandas.util.testing as tm\n"
     ]
    },
    {
     "name": "stdout",
     "output_type": "stream",
     "text": [
      "[nltk_data] Downloading package stopwords to /root/nltk_data...\n",
      "[nltk_data]   Unzipping corpora/stopwords.zip.\n",
      "[nltk_data] Downloading package wordnet to /root/nltk_data...\n",
      "[nltk_data]   Unzipping corpora/wordnet.zip.\n",
      "[nltk_data] Downloading package punkt to /root/nltk_data...\n",
      "[nltk_data]   Unzipping tokenizers/punkt.zip.\n",
      "[nltk_data] Downloading package averaged_perceptron_tagger to\n",
      "[nltk_data]     /root/nltk_data...\n",
      "[nltk_data]   Unzipping taggers/averaged_perceptron_tagger.zip.\n"
     ]
    }
   ],
   "source": [
    "\n",
    "#some basic libraries\n",
    "import pandas as pd\n",
    "import io\n",
    "import unicodedata\n",
    "import numpy as np\n",
    "import seaborn as sns\n",
    "\n",
    "#for text preprocessing\n",
    "import nltk\n",
    "nltk.download('stopwords')\n",
    "nltk.download('wordnet')\n",
    "nltk.download('punkt')\n",
    "nltk.download('averaged_perceptron_tagger') \n",
    "import re\n",
    "import string\n",
    "import spacy\n",
    "from nltk.corpus import stopwords\n",
    "stop = stopwords.words('english')\n",
    "\n",
    "\n",
    "\n",
    "#pytorch libraries\n",
    "import torch\n",
    "import torchtext \n",
    "import os\n",
    "\n",
    "SEED = 42\n",
    "torch.manual_seed(SEED)\n",
    "\n",
    "#data visualization\n",
    "import matplotlib.pyplot as plt"
   ]
  },
  {
   "cell_type": "markdown",
   "metadata": {
    "colab_type": "text",
    "id": "G3z3C7hkv_sT"
   },
   "source": [
    "#2. Load the corpus file form Google Drive into Colab\n"
   ]
  },
  {
   "cell_type": "code",
   "execution_count": null,
   "metadata": {
    "colab": {
     "base_uri": "https://localhost:8080/",
     "height": 207,
     "resources": {
      "http://localhost:8080/nbextensions/google.colab/files.js": {
       "data": "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",
       "headers": [
        [
         "content-type",
         "application/javascript"
        ]
       ],
       "ok": true,
       "status": 200,
       "status_text": ""
      }
     }
    },
    "colab_type": "code",
    "id": "gbWFnJl4wFD2",
    "outputId": "3a382445-550c-4331-e497-d066ded93c2e"
   },
   "outputs": [
    {
     "data": {
      "text/html": [
       "\n",
       "     <input type=\"file\" id=\"files-4e1e14f7-78a0-464c-9d56-4cca949d8138\" name=\"files[]\" multiple disabled />\n",
       "     <output id=\"result-4e1e14f7-78a0-464c-9d56-4cca949d8138\">\n",
       "      Upload widget is only available when the cell has been executed in the\n",
       "      current browser session. Please rerun this cell to enable.\n",
       "      </output>\n",
       "      <script src=\"/nbextensions/google.colab/files.js\"></script> "
      ],
      "text/plain": [
       "<IPython.core.display.HTML object>"
      ]
     },
     "metadata": {
      "tags": []
     },
     "output_type": "display_data"
    },
    {
     "name": "stdout",
     "output_type": "stream",
     "text": [
      "Saving labeled_data.csv to labeled_data.csv\n",
      "len(uploaded.keys(): 1\n",
      "User uploaded file \"labeled_data.csv\" with length 2546446 bytes\n"
     ]
    },
    {
     "data": {
      "text/plain": [
       "0    !!! RT @mayasolovely: As a woman you shouldn't...\n",
       "1    !!!!! RT @mleew17: boy dats cold...tyga dwn ba...\n",
       "2    !!!!!!! RT @UrKindOfBrand Dawg!!!! RT @80sbaby...\n",
       "3    !!!!!!!!! RT @C_G_Anderson: @viva_based she lo...\n",
       "4    !!!!!!!!!!!!! RT @ShenikaRoberts: The shit you...\n",
       "Name: tweet, dtype: object"
      ]
     },
     "execution_count": 5,
     "metadata": {
      "tags": []
     },
     "output_type": "execute_result"
    }
   ],
   "source": [
    "# Upload from local\n",
    "from google.colab import files\n",
    "uploaded = files.upload()\n",
    "print(\"len(uploaded.keys():\", len(uploaded.keys()))\n",
    "\n",
    "for fn in uploaded.keys():\n",
    "  print('User uploaded file \"{name}\" with length {length} bytes'.format(name=fn, length=len(uploaded[fn])))\n",
    "\n",
    "# Get dataframe of the tweets in the labeled dataset \n",
    "df_tweets = pd.read_csv('labeled_data.csv',encoding = 'utf-8',sep=',',index_col=0)\n",
    "\n",
    "#selecting the right column for data preprocessing \n",
    "tweets_pd_raw = df_tweets.iloc[:,5]\n",
    "\n",
    "#inspecting the selected column\n",
    "tweets_pd_raw.head(5)"
   ]
  },
  {
   "cell_type": "code",
   "execution_count": null,
   "metadata": {
    "colab": {},
    "colab_type": "code",
    "id": "b4viEmjz8ohZ"
   },
   "outputs": [],
   "source": [
    "!nvidia-smi"
   ]
  },
  {
   "cell_type": "code",
   "execution_count": null,
   "metadata": {
    "colab": {
     "base_uri": "https://localhost:8080/",
     "height": 204
    },
    "colab_type": "code",
    "id": "IT5R-Qz5AD24",
    "outputId": "328c7eff-2959-44a2-e632-10ea441b22fe"
   },
   "outputs": [
    {
     "data": {
      "text/html": [
       "<div>\n",
       "<style scoped>\n",
       "    .dataframe tbody tr th:only-of-type {\n",
       "        vertical-align: middle;\n",
       "    }\n",
       "\n",
       "    .dataframe tbody tr th {\n",
       "        vertical-align: top;\n",
       "    }\n",
       "\n",
       "    .dataframe thead th {\n",
       "        text-align: right;\n",
       "    }\n",
       "</style>\n",
       "<table border=\"1\" class=\"dataframe\">\n",
       "  <thead>\n",
       "    <tr style=\"text-align: right;\">\n",
       "      <th></th>\n",
       "      <th>count</th>\n",
       "      <th>hate_speech</th>\n",
       "      <th>offensive_language</th>\n",
       "      <th>neither</th>\n",
       "      <th>class</th>\n",
       "      <th>tweet</th>\n",
       "    </tr>\n",
       "  </thead>\n",
       "  <tbody>\n",
       "    <tr>\n",
       "      <th>0</th>\n",
       "      <td>3</td>\n",
       "      <td>0</td>\n",
       "      <td>0</td>\n",
       "      <td>3</td>\n",
       "      <td>2</td>\n",
       "      <td>!!! RT @mayasolovely: As a woman you shouldn't...</td>\n",
       "    </tr>\n",
       "    <tr>\n",
       "      <th>1</th>\n",
       "      <td>3</td>\n",
       "      <td>0</td>\n",
       "      <td>3</td>\n",
       "      <td>0</td>\n",
       "      <td>1</td>\n",
       "      <td>!!!!! RT @mleew17: boy dats cold...tyga dwn ba...</td>\n",
       "    </tr>\n",
       "    <tr>\n",
       "      <th>2</th>\n",
       "      <td>3</td>\n",
       "      <td>0</td>\n",
       "      <td>3</td>\n",
       "      <td>0</td>\n",
       "      <td>1</td>\n",
       "      <td>!!!!!!! RT @UrKindOfBrand Dawg!!!! RT @80sbaby...</td>\n",
       "    </tr>\n",
       "    <tr>\n",
       "      <th>3</th>\n",
       "      <td>3</td>\n",
       "      <td>0</td>\n",
       "      <td>2</td>\n",
       "      <td>1</td>\n",
       "      <td>1</td>\n",
       "      <td>!!!!!!!!! RT @C_G_Anderson: @viva_based she lo...</td>\n",
       "    </tr>\n",
       "    <tr>\n",
       "      <th>4</th>\n",
       "      <td>6</td>\n",
       "      <td>0</td>\n",
       "      <td>6</td>\n",
       "      <td>0</td>\n",
       "      <td>1</td>\n",
       "      <td>!!!!!!!!!!!!! RT @ShenikaRoberts: The shit you...</td>\n",
       "    </tr>\n",
       "  </tbody>\n",
       "</table>\n",
       "</div>"
      ],
      "text/plain": [
       "   count  hate_speech  ...  class                                              tweet\n",
       "0      3            0  ...      2  !!! RT @mayasolovely: As a woman you shouldn't...\n",
       "1      3            0  ...      1  !!!!! RT @mleew17: boy dats cold...tyga dwn ba...\n",
       "2      3            0  ...      1  !!!!!!! RT @UrKindOfBrand Dawg!!!! RT @80sbaby...\n",
       "3      3            0  ...      1  !!!!!!!!! RT @C_G_Anderson: @viva_based she lo...\n",
       "4      6            0  ...      1  !!!!!!!!!!!!! RT @ShenikaRoberts: The shit you...\n",
       "\n",
       "[5 rows x 6 columns]"
      ]
     },
     "execution_count": 6,
     "metadata": {
      "tags": []
     },
     "output_type": "execute_result"
    }
   ],
   "source": [
    "tweets_pd = pd.read_csv('labeled_data.csv',encoding = 'utf-8',sep=',',index_col=0)\n",
    "\n",
    "#inspecting the selected column\n",
    "tweets_pd.head(5)"
   ]
  },
  {
   "cell_type": "code",
   "execution_count": null,
   "metadata": {
    "colab": {
     "base_uri": "https://localhost:8080/",
     "height": 153
    },
    "colab_type": "code",
    "id": "Vu41ycLH_iXe",
    "outputId": "33ea78c6-efda-4434-aed4-22e1ab46d41d"
   },
   "outputs": [
    {
     "name": "stdout",
     "output_type": "stream",
     "text": [
      "total 104\n",
      "-rw-r--r-- 1 root staff   190 Apr 27 10:29 accuracy.json\n",
      "-rw-r--r-- 1 root staff  2770 Apr 27 10:29 meta.json\n",
      "drwxr-sr-x 2 root staff  4096 Apr 27 10:29 ner\n",
      "drwxr-sr-x 2 root staff  4096 Apr 27 10:29 parser\n",
      "drwxr-sr-x 2 root staff  4096 Apr 27 10:29 tagger\n",
      "-rw-r--r-- 1 root staff 81085 Apr 27 10:29 tokenizer\n",
      "drwxr-sr-x 2 root staff  4096 Apr 27 10:29 vocab\n"
     ]
    }
   ],
   "source": [
    "!ls -l /usr/local/lib/python3.6/dist-packages/en_core_web_lg/en_core_web_lg-2.2.5"
   ]
  },
  {
   "cell_type": "code",
   "execution_count": null,
   "metadata": {
    "colab": {
     "base_uri": "https://localhost:8080/"
    },
    "colab_type": "code",
    "id": "u1xAtb4Fxnxx",
    "outputId": "ee2d5759-d01c-443c-d827-1e53a0c40cca"
   },
   "outputs": [
    {
     "data": {
      "text/plain": [
       "[Text(0.5, 0, 'Class')]"
      ]
     },
     "execution_count": 8,
     "metadata": {
      "tags": []
     },
     "output_type": "execute_result"
    },
    {
     "data": {
      "image/png": "[encoded data removed]",
      "text/plain": [
       "<Figure size 576x360 with 1 Axes>"
      ]
     },
     "metadata": {
      "needs_background": "light",
      "tags": []
     },
     "output_type": "display_data"
    }
   ],
   "source": [
    "#check the label distribution:\n",
    "# 0 - hate speech \n",
    "# 1 - offensive language \n",
    "# 2 - neither\n",
    "fig = plt.figure(figsize=(8,5))\n",
    "ax = sns.barplot(x=tweets_pd['class'].unique(),y=tweets_pd['class'].value_counts());\n",
    "ax.set(xlabel='Class')"
   ]
  },
  {
   "cell_type": "markdown",
   "metadata": {
    "colab_type": "text",
    "id": "XNP2mFPwmTE-"
   },
   "source": [
    "# 3. Preprocessing: replace, tokenize sentences and words, remove stopwords, use stemmer & lemmatizer\n",
    "\n"
   ]
  },
  {
   "cell_type": "code",
   "execution_count": null,
   "metadata": {
    "colab": {
     "base_uri": "https://localhost:8080/",
     "height": 359
    },
    "colab_type": "code",
    "id": "Y5qXNNQ-EPct",
    "outputId": "c72905c1-31da-40d4-8103-344c1f5c2b6b"
   },
   "outputs": [
    {
     "data": {
      "text/html": [
       "<div>\n",
       "<style scoped>\n",
       "    .dataframe tbody tr th:only-of-type {\n",
       "        vertical-align: middle;\n",
       "    }\n",
       "\n",
       "    .dataframe tbody tr th {\n",
       "        vertical-align: top;\n",
       "    }\n",
       "\n",
       "    .dataframe thead th {\n",
       "        text-align: right;\n",
       "    }\n",
       "</style>\n",
       "<table border=\"1\" class=\"dataframe\">\n",
       "  <thead>\n",
       "    <tr style=\"text-align: right;\">\n",
       "      <th></th>\n",
       "      <th>count</th>\n",
       "      <th>hate_speech</th>\n",
       "      <th>offensive_language</th>\n",
       "      <th>neither</th>\n",
       "      <th>class</th>\n",
       "      <th>tweet</th>\n",
       "    </tr>\n",
       "  </thead>\n",
       "  <tbody>\n",
       "    <tr>\n",
       "      <th>0</th>\n",
       "      <td>3</td>\n",
       "      <td>0</td>\n",
       "      <td>0</td>\n",
       "      <td>3</td>\n",
       "      <td>2</td>\n",
       "      <td>[woman, complain, clean, house, man, always, t...</td>\n",
       "    </tr>\n",
       "    <tr>\n",
       "      <th>1</th>\n",
       "      <td>3</td>\n",
       "      <td>0</td>\n",
       "      <td>3</td>\n",
       "      <td>0</td>\n",
       "      <td>1</td>\n",
       "      <td>[boy, bad, hoe, place]</td>\n",
       "    </tr>\n",
       "    <tr>\n",
       "      <th>2</th>\n",
       "      <td>3</td>\n",
       "      <td>0</td>\n",
       "      <td>3</td>\n",
       "      <td>0</td>\n",
       "      <td>1</td>\n",
       "      <td>[ever, fuck, bitch, start, cry, confuse, shit]</td>\n",
       "    </tr>\n",
       "    <tr>\n",
       "      <th>3</th>\n",
       "      <td>3</td>\n",
       "      <td>0</td>\n",
       "      <td>2</td>\n",
       "      <td>1</td>\n",
       "      <td>1</td>\n",
       "      <td>[look, tranny]</td>\n",
       "    </tr>\n",
       "    <tr>\n",
       "      <th>4</th>\n",
       "      <td>6</td>\n",
       "      <td>0</td>\n",
       "      <td>6</td>\n",
       "      <td>0</td>\n",
       "      <td>1</td>\n",
       "      <td>[shit, hear, may, true, may, faker, bitch, tel...</td>\n",
       "    </tr>\n",
       "    <tr>\n",
       "      <th>5</th>\n",
       "      <td>3</td>\n",
       "      <td>1</td>\n",
       "      <td>2</td>\n",
       "      <td>0</td>\n",
       "      <td>1</td>\n",
       "      <td>[shit, blow, meclaim, faithful, still, fuck, h...</td>\n",
       "    </tr>\n",
       "    <tr>\n",
       "      <th>6</th>\n",
       "      <td>3</td>\n",
       "      <td>0</td>\n",
       "      <td>3</td>\n",
       "      <td>0</td>\n",
       "      <td>1</td>\n",
       "      <td>[sit, hate, bitch, get, much, shit, go]</td>\n",
       "    </tr>\n",
       "    <tr>\n",
       "      <th>7</th>\n",
       "      <td>3</td>\n",
       "      <td>0</td>\n",
       "      <td>3</td>\n",
       "      <td>0</td>\n",
       "      <td>1</td>\n",
       "      <td>[tired, big, bitch, come, skinny, girl, #]</td>\n",
       "    </tr>\n",
       "    <tr>\n",
       "      <th>8</th>\n",
       "      <td>3</td>\n",
       "      <td>0</td>\n",
       "      <td>3</td>\n",
       "      <td>0</td>\n",
       "      <td>1</td>\n",
       "      <td>[may, bitch]</td>\n",
       "    </tr>\n",
       "    <tr>\n",
       "      <th>9</th>\n",
       "      <td>3</td>\n",
       "      <td>1</td>\n",
       "      <td>2</td>\n",
       "      <td>0</td>\n",
       "      <td>1</td>\n",
       "      <td>[hobby, include, fight]</td>\n",
       "    </tr>\n",
       "  </tbody>\n",
       "</table>\n",
       "</div>"
      ],
      "text/plain": [
       "   count  hate_speech  ...  class                                              tweet\n",
       "0      3            0  ...      2  [woman, complain, clean, house, man, always, t...\n",
       "1      3            0  ...      1                             [boy, bad, hoe, place]\n",
       "2      3            0  ...      1     [ever, fuck, bitch, start, cry, confuse, shit]\n",
       "3      3            0  ...      1                                     [look, tranny]\n",
       "4      6            0  ...      1  [shit, hear, may, true, may, faker, bitch, tel...\n",
       "5      3            1  ...      1  [shit, blow, meclaim, faithful, still, fuck, h...\n",
       "6      3            0  ...      1            [sit, hate, bitch, get, much, shit, go]\n",
       "7      3            0  ...      1         [tired, big, bitch, come, skinny, girl, #]\n",
       "8      3            0  ...      1                                       [may, bitch]\n",
       "9      3            1  ...      1                            [hobby, include, fight]\n",
       "\n",
       "[10 rows x 6 columns]"
      ]
     },
     "execution_count": 9,
     "metadata": {
      "tags": []
     },
     "output_type": "execute_result"
    }
   ],
   "source": [
    "\n",
    "# nlp = spacy.load('en_core_web_lg')\n",
    "nlp = spacy.load('/usr/local/lib/python3.6/dist-packages/en_core_web_lg/en_core_web_lg-2.2.5')\n",
    "\n",
    "##remove mentions\n",
    "mention_regex = '@[\\w\\-]+'\n",
    "tweets_pd['tweet'] = tweets_pd['tweet'].map(lambda x: re.sub(mention_regex, ' ', x))\n",
    "\n",
    "# Remove punctuation\n",
    "tweets_pd['tweet'] = tweets_pd['tweet'].map(lambda x: re.sub('[,-:\\.!?]', '', x))\n",
    "\n",
    "#remove numbers, excessive white space\n",
    "space_pattern = '\\s+'\n",
    "tweets_pd['tweet'] = tweets_pd['tweet'].map(lambda x: re.sub(space_pattern,' ', x))\n",
    "tweets_pd['tweet'] = tweets_pd['tweet'].map(lambda x: re.sub('[0-9]','', x))\n",
    "\n",
    "# Convert the tweets to lowercase\n",
    "tweets_pd['tweet'] = tweets_pd['tweet'].map(lambda x: x.lower().split())\n",
    "\n",
    "# Do lemmatization keeping only noun, adj, vb, adv\n",
    "def lemmatization(texts, allowed_postags=['NOUN', 'ADJ', 'VERB', 'ADV']):\n",
    "    \"\"\"https://spacy.io/api/annotation\"\"\"\n",
    "    texts_out = []\n",
    "    for sent in texts:\n",
    "        doc = nlp(\" \".join(sent)) \n",
    "        texts_out.append([token.lemma_ for token in doc if token.pos_ in allowed_postags])\n",
    "    return texts_out\n",
    "\n",
    "\n",
    "tweets_pd['tweet'] = lemmatization(tweets_pd['tweet'], allowed_postags=['NOUN', 'ADJ', 'VERB', 'ADV'])\n",
    "\n",
    "#remove stop words\n",
    "def remove_stopwords(X_list):\n",
    "    filtered_list =[]\n",
    "    for it in X_list:\n",
    "        temp = []\n",
    "        for word in it:\n",
    "            if(word not in stop):\n",
    "                temp.append(word)\n",
    "        filtered_list.append(temp)\n",
    "        temp=[] \n",
    "    return filtered_list\n",
    "\n",
    "tweets_pd['tweet'] = remove_stopwords(tweets_pd['tweet'])\n",
    "\n",
    "#take out numbers and \n",
    "tweets_pd.head(10)"
   ]
  },
  {
   "cell_type": "code",
   "execution_count": null,
   "metadata": {
    "colab": {},
    "colab_type": "code",
    "id": "9O6YBB8nOjc2"
   },
   "outputs": [],
   "source": [
    "print(type(tweets_pd))"
   ]
  },
  {
   "cell_type": "code",
   "execution_count": null,
   "metadata": {
    "colab": {
     "base_uri": "https://localhost:8080/",
     "height": 54
    },
    "colab_type": "code",
    "id": "G9XaUsDBQpX7",
    "outputId": "412ae32c-8b75-4701-c371-e55944acf1b3"
   },
   "outputs": [
    {
     "name": "stdout",
     "output_type": "stream",
     "text": [
      "{'category': '2', 'tweet': [\"['woman',\", \"'complain',\", \"'clean',\", \"'house',\", \"'man',\", \"'always',\", \"'take',\", \"'trash']\"]}\n"
     ]
    }
   ],
   "source": [
    "import torch\n",
    "from torchtext import data\n",
    "\n",
    "TWEETS = data.Field(batch_first=True,include_lengths=True)\n",
    "LABEL = data.LabelField(dtype = torch.float,batch_first=True)\n",
    "\n",
    "fields = [(None, None), (None, None),(None, None),(None, None),(None, None),('category', LABEL),('tweet', TWEETS)]\n",
    "\n",
    "#loading custom dataset\n",
    "# tweets_pd.to_csv('tweets_pd.csv', encoding='utf-8')\n",
    "training_data=data.TabularDataset(path = 'tweets_pd.csv',format = 'csv',fields = fields,skip_header = True)\n",
    "#print preprocessed text\n",
    "print(vars(training_data.examples[0]))"
   ]
  },
  {
   "cell_type": "code",
   "execution_count": null,
   "metadata": {
    "colab": {},
    "colab_type": "code",
    "id": "-DpaLTZ4ZIMa"
   },
   "outputs": [],
   "source": [
    "#split the dataset into training and validation data\n",
    "\n",
    "import random\n",
    "train_data, valid_data = training_data.split(split_ratio=0.7, random_state = random.seed(42))"
   ]
  },
  {
   "cell_type": "code",
   "execution_count": null,
   "metadata": {
    "colab": {
     "base_uri": "https://localhost:8080/",
     "height": 105
    },
    "colab_type": "code",
    "id": "MA32NSzdZT_h",
    "outputId": "b0d1281f-1ecc-4af2-8f11-1c9156696f43"
   },
   "outputs": [
    {
     "name": "stdout",
     "output_type": "stream",
     "text": [
      "Size of TWEETS vocabulary: 4216\n",
      "Size of LABEL vocabulary: 3\n",
      "[(\"'bitch',\", 4151), (\"'#']\", 2638), (\"'#',\", 1671), (\"'bitch']\", 1609), (\"'hoe',\", 1605), (\"['bitch',\", 1172), (\"'get',\", 1117), (\"'pussy',\", 874), (\"'ass',\", 840), (\"'go',\", 807)]\n",
      "defaultdict(<function _default_unk_index at 0x7f68451beae8>, {'<unk>': 0, '<pad>': 1, \"'bitch',\": 2, \"'#']\": 3, \"'#',\": 4, \"'bitch']\": 5, \"'hoe',\": 6, \"['bitch',\": 7, \"'get',\": 8, \"'pussy',\": 9, \"'ass',\": 10, \"'go',\": 11, \"'hoe']\": 12, \"'fuck',\": 13, \"'nigga',\": 14, \"'shit',\": 15, \"['hoe',\": 16, \"'say',\": 17, \"'make',\": 18, \"['get',\": 19, \"'trash',\": 20, \"'look',\": 21, \"'know',\": 22, \"'girl',\": 23, \"'love',\": 24, \"'talk',\": 25, \"'good',\": 26, \"'would',\": 27, \"'bad',\": 28, \"'want',\": 29, \"'pussy']\": 30, \"'see',\": 31, \"'call',\": 32, \"'think',\": 33, '[]': 34, \"['#',\": 35, \"'take',\": 36, \"'man',\": 37, \"['fuck',\": 38, \"'bird',\": 39, \"'come',\": 40, \"'eat',\": 41, \"'need',\": 42, \"'time',\": 43, \"'still',\": 44, \"'tell',\": 45, \"'give',\": 46, \"'back',\": 47, \"'people',\": 48, \"['go',\": 49, \"'even',\": 50, \"'let',\": 51, \"'never',\": 52, \"'amp',\": 53, \"['bitch']\": 54, \"'shit']\": 55, \"['know',\": 56, \"'trash']\": 57, \"['hate',\": 58, \"'try',\": 59, \"['say',\": 60, \"'day',\": 61, \"'real',\": 62, \"'really',\": 63, \"'white',\": 64, \"'nigga']\": 65, \"'big',\": 66, \"'like',\": 67, \"'little',\": 68, \"'right',\": 69, \"'wanna',\": 70, \"'play',\": 71, \"'faggot',\": 72, \"'put',\": 73, \"'stop',\": 74, \"'hate',\": 75, \"'fucking',\": 76, \"'keep',\": 77, \"['nigga',\": 78, \"'could',\": 79, \"'new',\": 80, \"'thing',\": 81, \"['pussy',\": 82, \"'faggot']\": 83, \"['see',\": 84, \"'hit',\": 85, \"'always',\": 86, \"'use',\": 87, \"'woman',\": 88, \"'u',\": 89, \"'yellow',\": 90, \"['love',\": 91, \"'ugly',\": 92, \"['want',\": 93, \"'black',\": 94, \"['think',\": 95, \"'start',\": 96, \"'game',\": 97, \"['tell',\": 98, \"'dumb',\": 99, \"'tweet',\": 100, \"['girl',\": 101, \"'mean',\": 102, \"'way',\": 103, \"'guy',\": 104, \"'life',\": 105, \"'much',\": 106, \"['look',\": 107, \"'find',\": 108, \"['make',\": 109, \"'act',\": 110, \"'fuck']\": 111, \"'lil',\": 112, \"'year',\": 113, \"'friend',\": 114, \"'ask',\": 115, \"'last',\": 116, \"['would',\": 117, \"'feel',\": 118, \"'money',\": 119, \"'old',\": 120, \"'fat',\": 121, \"['bad',\": 122, \"'wear',\": 123, \"'kill',\": 124, \"'work',\": 125, \"['need',\": 126, \"'face',\": 127, \"'head',\": 128, \"'show',\": 129, \"'ever',\": 130, \"'ghetto',\": 131, \"'stupid',\": 132, \"'twitter',\": 133, \"'leave',\": 134, \"['never',\": 135, \"'name',\": 136, \"['good',\": 137, \"'damn',\": 138, \"'cause',\": 139, \"'turn',\": 140, \"['really',\": 141, \"'throw',\": 142, \"'baby',\": 143, \"'mad',\": 144, \"'_',\": 145, \"'first',\": 146, \"'next',\": 147, \"['call',\": 148, \"'break',\": 149, \"'cunt',\": 150, \"'fuckin',\": 151, \"'beat',\": 152, \"'better',\": 153, \"'ass']\": 154, \"'dick',\": 155, \"'school',\": 156, \"'suck',\": 157, \"'watch',\": 158, \"'one',\": 159, \"'today',\": 160, \"'side',\": 161, \"['let',\": 162, \"'wit',\": 163, \"'many',\": 164, \"'retarded',\": 165, \"'well',\": 166, \"'run',\": 167, \"['still',\": 168, \"'bout',\": 169, \"['take',\": 170, \"'night',\": 171, \"['hoe']\": 172, \"'stay',\": 173, \"['trash',\": 174, \"'boy',\": 175, \"'gon',\": 176, \"'lose',\": 177, \"'may',\": 178, \"'bring',\": 179, \"'car',\": 180, \"'kid',\": 181, \"'high',\": 182, \"['people',\": 183, \"'buy',\": 184, \"['real',\": 185, \"'care',\": 186, \"'nigger',\": 187, \"'pic',\": 188, \"['man',\": 189, \"'live',\": 190, \"['like',\": 191, \"'go']\": 192, \"'fag',\": 193, \"'female',\": 194, \"'phone',\": 195, \"'fight',\": 196, \"'cry',\": 197, \"'day']\": 198, \"'pay',\": 199, \"'dude',\": 200, \"'tryna',\": 201, \"'cute',\": 202, \"'die',\": 203, \"'hair',\": 204, \"['come',\": 205, \"['eat',\": 206, \"['shut',\": 207, \"'know']\": 208, \"'walk',\": 209, \"'hard',\": 210, \"'home',\": 211, \"'lie',\": 212, \"'monkey',\": 213, \"'sex',\": 214, \"'bird']\": 215, \"'catch',\": 216, \"'fag']\": 217, \"'gay',\": 218, \"'hot',\": 219, \"'mom',\": 220, \"'time']\": 221, \"'cunt']\": 222, \"'free',\": 223, \"'retarded']\": 224, \"['stop',\": 225, \"'fake',\": 226, \"'pretty',\": 227, \"'tho',\": 228, \"'follow',\": 229, \"'lot',\": 230, \"'man']\": 231, \"'problem',\": 232, \"'text',\": 233, \"['always',\": 234, \"['give',\": 235, \"['little',\": 236, \"['wanna',\": 237, \"'word',\": 238, \"'young',\": 239, \"['faggot',\": 240, \"'away',\": 241, \"'love']\": 242, \"'retard',\": 243, \"'right']\": 244, \"'tonight',\": 245, \"'wait',\": 246, \"'wrong',\": 247, \"'colored',\": 248, \"'mock',\": 249, \"'straight',\": 250, \"'hear',\": 251, \"'long',\": 252, \"'whole',\": 253, \"'cut',\": 254, \"'pop',\": 255, \"'red',\": 256, \"'rt',\": 257, \"'type',\": 258, \"'wife',\": 259, \"'cheat',\": 260, \"'crazy',\": 261, \"'sleep',\": 262, \"'win',\": 263, \"'hand',\": 264, \"'picture',\": 265, \"'redneck',\": 266, \"'say']\": 267, \"'shut',\": 268, \"'sit',\": 269, \"'song',\": 270, \"['big',\": 271, \"['talk',\": 272, \"'already',\": 273, \"'change',\": 274, \"'color',\": 275, \"'full',\": 276, \"'happy',\": 277, \"'move',\": 278, \"'nigger']\": 279, \"'send',\": 280, \"'smoke',\": 281, \"'trust',\": 282, \"'world',\": 283, \"['try',\": 284, \"'brownie',\": 285, \"'eye',\": 286, \"'pull',\": 287, \"'sound',\": 288, \"['even',\": 289, \"['fucking',\": 290, \"'chick',\": 291, \"'house',\": 292, \"'loyal',\": 293, \"'team',\": 294, \"'week',\": 295, \"['could',\": 296, \"['pussy']\": 297, \"'back']\": 298, \"'fan',\": 299, \"'hope',\": 300, \"'mouth',\": 301, \"'basic',\": 302, \"'booty',\": 303, \"'cool',\": 304, \"'job',\": 305, \"'light',\": 306, \"'meet',\": 307, \"'pass',\": 308, \"'son',\": 309, \"'sure',\": 310, \"'weed',\": 311, \"['#']\": 312, \"['time',\": 313, \"['wish',\": 314, \"'boy']\": 315, \"'couple',\": 316, \"'drop',\": 317, \"'food',\": 318, \"'party',\": 319, \"'post',\": 320, \"'sell',\": 321, \"['bird',\": 322, \"['swear',\": 323, \"'fall',\": 324, \"'miss',\": 325, \"'pick',\": 326, \"'shoot',\": 327, \"'thank',\": 328, \"['ever',\": 329, \"'body',\": 330, \"'dog',\": 331, \"'end',\": 332, \"'line',\": 333, \"'single',\": 334, \"'cracker',\": 335, \"'date',\": 336, \"'guess',\": 337, \"'must',\": 338, \"'nice',\": 339, \"'number',\": 340, \"['ugly',\": 341, \"['wait',\": 342, \"'ball',\": 343, \"'good']\": 344, \"'person',\": 345, \"'relationship',\": 346, \"'save',\": 347, \"'stand',\": 348, \"'top',\": 349, \"['guy',\": 350, \"['many',\": 351, \"'blow',\": 352, \"'drive',\": 353, \"'enough',\": 354, \"'funny',\": 355, \"'point',\": 356, \"'swear',\": 357, \"'want']\": 358, \"'yet',\": 359, \"['trash']\": 360, \"'bet',\": 361, \"'dress',\": 362, \"'drink',\": 363, \"'life']\": 364, \"'probably',\": 365, \"'treat',\": 366, \"'video',\": 367, \"['remember',\": 368, \"['watch',\": 369, \"'%',\": 370, \"'game']\": 371, \"'great',\": 372, \"'hurt',\": 373, \"'none',\": 374, \"'open',\": 375, \"'place',\": 376, \"'stick',\": 377, \"'wish',\": 378, \"['put',\": 379, \"['shit',\": 380, \"['use',\": 381, \"'actually',\": 382, \"'birthday',\": 383, \"'boyfriend',\": 384, \"'ride',\": 385, \"'tho']\": 386, \"['feel',\": 387, \"['happy',\": 388, \"'dead',\": 389, \"'dick']\": 390, \"'help',\": 391, \"'listen',\": 392, \"'mind',\": 393, \"'slap',\": 394, \"['trust',\": 395, \"'believe',\": 396, \"'broke',\": 397, \"'chill',\": 398, \"'club',\": 399, \"'else',\": 400, \"'ex',\": 401, \"'grow',\": 402, \"'ho',\": 403, \"'laugh',\": 404, \"'maybe',\": 405, \"'read',\": 406, \"'think']\": 407, \"['find',\": 408, \"['play',\": 409, \"'bed',\": 410, \"'bro',\": 411, \"'cold',\": 412, \"'cop',\": 413, \"'fun',\": 414, \"'get']\": 415, \"'half',\": 416, \"'nicca',\": 417, \"'racist',\": 418, \"'smell',\": 419, \"'sorry',\": 420, \"'today']\": 421, \"['bout',\": 422, \"['fat',\": 423, \"'bag',\": 424, \"'class',\": 425, \"'front',\": 426, \"'heart',\": 427, \"'hold',\": 428, \"'lady',\": 429, \"'queer',\": 430, \"'rather',\": 431, \"'ready',\": 432, \"'season',\": 433, \"['lil',\": 434, \"'also',\": 435, \"'face']\": 436, \"'ion',\": 437, \"'lame',\": 438, \"'loyal']\": 439, \"'main',\": 440, \"'morning',\": 441, \"'pregnant',\": 442, \"'reason',\": 443, \"'retard']\": 444, \"'teabagger',\": 445, \"'water',\": 446, \"['keep',\": 447, \"['mean',\": 448, \"['old',\": 449, \"['stupid',\": 450, \"'forget',\": 451, \"'hell',\": 452, \"'month',\": 453, \"'night']\": 454, \"'seem',\": 455, \"'speak',\": 456, \"'steal',\": 457, \"'street',\": 458, \"'together',\": 459, \"['buy',\": 460, \"['dumb',\": 461, \"['fag']\": 462, \"['may',\": 463, \"'asian',\": 464, \"'dirty',\": 465, \"'folk',\": 466, \"'girl']\": 467, \"'happen',\": 468, \"'ill',\": 469, \"'instead',\": 470, \"'kick',\": 471, \"'least',\": 472, \"'look']\": 473, \"'music',\": 474, \"'nasty',\": 475, \"'niggas',\": 476, \"'second',\": 477, \"'tomorrow',\": 478, \"'understand',\": 479, \"['hit',\": 480, \"['new',\": 481, \"['start',\": 482, \"'check',\": 483, \"'different',\": 484, \"'fact',\": 485, \"'fine',\": 486, \"'jihadi',\": 487, \"'lookin',\": 488, \"'movie',\": 489, \"'respect',\": 490, \"'support',\": 491, \"'talk']\": 492, \"'true',\": 493, \"'wake',\": 494, \"'weekend',\": 495, \"['ask',\": 496, \"['day',\": 497, \"['thank',\": 498, \"['work',\": 499, \"'attitude',\": 500, \"'bunch',\": 501, \"'close',\": 502, \"'drunk',\": 503, \"'dyke',\": 504, \"'favorite',\": 505, \"'flappy',\": 506, \"'fly',\": 507, \"'girlfriend',\": 508, \"'literally',\": 509, \"'low',\": 510, \"'need']\": 511, \"'niccas',\": 512, \"'remember',\": 513, \"'sexy',\": 514, \"'shirt',\": 515, \"'taste',\": 516, \"'weak',\": 517, \"['black',\": 518, \"['hear',\": 519, \"['mom',\": 520, \"['tweet',\": 521, \"'city',\": 522, \"'door',\": 523, \"'drug',\": 524, \"'niggah',\": 525, \"'r',\": 526, \"'short',\": 527, \"['pull',\": 528, \"['way',\": 529, \"['white',\": 530, \"'around',\": 531, \"'feeling',\": 532, \"'hella',\": 533, \"'public',\": 534, \"'rap',\": 535, \"'rest',\": 536, \"'room',\": 537, \"'slope',\": 538, \"'state',\": 539, \"'suppose',\": 540, \"'thirsty',\": 541, \"['faggot']\": 542, \"['female',\": 543, \"['hope',\": 544, \"['wonder',\": 545, \"'answer',\": 546, \"'b',\": 547, \"'become',\": 548, \"'block',\": 549, \"'come']\": 550, \"'follower',\": 551, \"'gettin',\": 552, \"'joke',\": 553, \"'lick',\": 554, \"'nig']\": 555, \"'rate',\": 556, \"'round',\": 557, \"'smh']\": 558, \"'sweet',\": 559, \"'wet',\": 560, \"['beat',\": 561, \"['first',\": 562, \"['follow',\": 563, \"['ion',\": 564, \"['last',\": 565, \"['mad',\": 566, \"['run',\": 567, \"['stand',\": 568, \"['twitter',\": 569, \"'alone',\": 570, \"'bad']\": 571, \"'brother',\": 572, \"'bruh',\": 573, \"'claim',\": 574, \"'crazy']\": 575, \"'deserve',\": 576, \"'family',\": 577, \"'ghetto']\": 578, \"'hate']\": 579, \"'like']\": 580, \"'lip',\": 581, \"'make']\": 582, \"'mess',\": 583, \"'nigguh']\": 584, \"'piece',\": 585, \"'set',\": 586, \"'skin',\": 587, \"'sole',\": 588, \"'tired',\": 589, \"'tonight']\": 590, \"['back',\": 591, \"['cut',\": 592, \"['lose',\": 593, \"['thing',\": 594, \"'argue',\": 595, \"'attention',\": 596, \"'blue',\": 597, \"'child',\": 598, \"'clean',\": 599, \"'complain',\": 600, \"'country',\": 601, \"'deal',\": 602, \"'fuzzy',\": 603, \"'hang',\": 604, \"'kno',\": 605, \"'late',\": 606, \"'learn',\": 607, \"'lie']\": 608, \"'money']\": 609, \"'monkey']\": 610, \"'nig',\": 611, \"'nude',\": 612, \"'order',\": 613, \"'play']\": 614, \"'realize',\": 615, \"'rock',\": 616, \"'sad',\": 617, \"'self',\": 618, \"'serious',\": 619, \"'social',\": 620, \"'work']\": 621, \"['funny',\": 622, \"['life',\": 623, \"['miss',\": 624, \"['money',\": 625, \"['show',\": 626, \"['sound',\": 627, \"['suck',\": 628, \"['woman',\": 629, \"'bear',\": 630, \"'bullshit',\": 631, \"'die']\": 632, \"'far',\": 633, \"'feel']\": 634, \"'gun',\": 635, \"'hour',\": 636, \"'ice',\": 637, \"'kinda',\": 638, \"'kiss',\": 639, \"'minute',\": 640, \"'outta',\": 641, \"'quit',\": 642, \"'ratchet',\": 643, \"'rich',\": 644, \"'roll',\": 645, \"'sick',\": 646, \"'sum',\": 647, \"'thick',\": 648, \"'though']\": 649, \"'ur',\": 650, \"['bet',\": 651, \"['fuckin',\": 652, \"['side',\": 653, \"'ago',\": 654, \"'animal',\": 655, \"'ape',\": 656, \"'bar',\": 657, \"'brownie']\": 658, \"'build',\": 659, \"'cat',\": 660, \"'chocolate',\": 661, \"'clothe',\": 662, \"'dem',\": 663, \"'home']\": 664, \"'jump',\": 665, \"'later',\": 666, \"'name']\": 667, \"'niggah']\": 668, \"'prolly',\": 669, \"'skinny',\": 670, \"'slut',\": 671, \"'tell']\": 672, \"['boy',\": 673, \"['dude',\": 674, \"['pretty',\": 675, \"['sick',\": 676, \"'anymore',\": 677, \"'asshole',\": 678, \"'bro']\": 679, \"'bruh']\": 680, \"'dad',\": 681, \"'deep',\": 682, \"'dollar',\": 683, \"'excuse',\": 684, \"'fast',\": 685, \"'flip',\": 686, \"'foot',\": 687, \"'friend']\": 688, \"'gold',\": 689, \"'jail',\": 690, \"'jus',\": 691, \"'leg',\": 692, \"'less',\": 693, \"'matter',\": 694, \"'medium',\": 695, \"'niggaz',\": 696, \"'nigguh',\": 697, \"'nip',\": 698, \"'park',\": 699, \"'quick',\": 700, \"'see']\": 701, \"'sleep']\": 702, \"'story',\": 703, \"'test',\": 704, \"'texte',\": 705, \"'tweet']\": 706, \"'voice',\": 707, \"'well']\": 708, \"'wonder',\": 709, \"'write',\": 710, \"['bring',\": 711, \"['catch',\": 712, \"['damn',\": 713, \"['friend',\": 714, \"['great',\": 715, \"['live',\": 716, \"['maybe',\": 717, \"['much',\": 718, \"['retarded',\": 719, \"['turn',\": 720, \"['u',\": 721, \"['wake',\": 722, \"'almost',\": 723, \"'count',\": 724, \"'cream',\": 725, \"'daddy',\": 726, \"'easy',\": 727, \"'finna',\": 728, \"'fire',\": 729, \"'giant',\": 730, \"'head']\": 731, \"'hell']\": 732, \"'house']\": 733, \"'huge',\": 734, \"'marry',\": 735, \"'mean']\": 736, \"'middle',\": 737, \"'part',\": 738, \"'smack',\": 739, \"'teabagger']\": 740, \"'u']\": 741, \"'waste',\": 742, \"'way']\": 743, \"['baby',\": 744, \"['early',\": 745, \"['fight',\": 746, \"['today',\": 747, \"'away']\": 748, \"'badd',\": 749, \"'beer',\": 750, \"'call']\": 751, \"'chug',\": 752, \"'cook',\": 753, \"'expect',\": 754, \"'feed',\": 755, \"'fight']\": 756, \"'fuckin']\": 757, \"'gas',\": 758, \"'hood',\": 759, \"'hop',\": 760, \"'lol']\": 761, \"'mother',\": 762, \"'plan',\": 763, \"'rape',\": 764, \"'scare',\": 765, \"'scary',\": 766, \"'shoe',\": 767, \"'shot',\": 768, \"'swag',\": 769, \"'thing']\": 770, \"'tranny',\": 771, \"'win']\": 772, \"'year']\": 773, \"['better',\": 774, \"['bro',\": 775, \"['lot',\": 776, \"['main',\": 777, \"['must',\": 778, \"['one',\": 779, \"['probably',\": 780, \"['quit',\": 781, \"['send',\": 782, \"['straight',\": 783, \"['throw',\": 784, \"['wrong',\": 785, \"['yellow',\": 786, \"'beautiful',\": 787, \"'butt',\": 788, \"'cock',\": 789, \"'cousin',\": 790, \"'cracker']\": 791, \"'dance',\": 792, \"'early',\": 793, \"'ever']\": 794, \"'funny']\": 795, \"'grade',\": 796, \"'knock',\": 797, \"'massage',\": 798, \"'paper',\": 799, \"'parent',\": 800, \"'pimp',\": 801, \"'player',\": 802, \"'poor',\": 803, \"'punch',\": 804, \"'scream',\": 805, \"'slow',\": 806, \"'smart',\": 807, \"'summer',\": 808, \"'super',\": 809, \"'tooth',\": 810, \"['ass',\": 811, \"['believe',\": 812, \"['high',\": 813, \"['kill',\": 814, \"['ready',\": 815, \"['right',\": 816, \"'allow',\": 817, \"'blunt',\": 818, \"'box',\": 819, \"'business',\": 820, \"'bust',\": 821, \"'card',\": 822, \"'comment',\": 823, \"'dream',\": 824, \"'eat']\": 825, \"'especially',\": 826, \"'finger',\": 827, \"'finish',\": 828, \"'hairy',\": 829, \"'ho']\": 830, \"'kind',\": 831, \"'lay',\": 832, \"'liberal',\": 833, \"'mama',\": 834, \"'neck',\": 835, \"'outside',\": 836, \"'people']\": 837, \"'pet',\": 838, \"'piss',\": 839, \"'potato',\": 840, \"'race',\": 841, \"'real']\": 842, \"'sense',\": 843, \"'slide',\": 844, \"'slit',\": 845, \"'smile',\": 846, \"'stfu',\": 847, \"'stfu']\": 848, \"'thug',\": 849, \"'tight',\": 850, \"'toe',\": 851, \"'tongue',\": 852, \"'touch',\": 853, \"'town',\": 854, \"'trick',\": 855, \"'twitter']\": 856, \"'warm',\": 857, \"'watch']\": 858, \"'whip',\": 859, \"'whore',\": 860, \"'worried',\": 861, \"'yell',\": 862, \"['act',\": 863, \"['almost',\": 864, \"['break',\": 865, \"['care',\": 866, \"['date',\": 867, \"['favorite',\": 868, \"['guess',\": 869, \"['jihadi',\": 870, \"['kid',\": 871, \"['leave',\": 872, \"['lie',\": 873, \"['stay',\": 874, \"['tired',\": 875, \"'add',\": 876, \"'af',\": 877, \"'beef',\": 878, \"'book',\": 879, \"'carry',\": 880, \"'chance',\": 881, \"'clam',\": 882, \"'dark',\": 883, \"'death',\": 884, \"'delete',\": 885, \"'fish',\": 886, \"'handle',\": 887, \"'hide',\": 888, \"'hillbilly',\": 889, \"'idea',\": 890, \"'lonely',\": 891, \"'mention',\": 892, \"'n',\": 893, \"'nicca']\": 894, \"'offend',\": 895, \"'power',\": 896, \"'rapper',\": 897, \"'ring',\": 898, \"'score',\": 899, \"'seat',\": 900, \"'share',\": 901, \"'sign',\": 902, \"'sol',\": 903, \"'step',\": 904, \"'stuff',\": 905, \"'trap',\": 906, \"'w',\": 907, \"'weight',\": 908, \"'worth',\": 909, \"['already',\": 910, \"['drop',\": 911, \"['dyke',\": 912, \"['fan',\": 913, \"['game',\": 914, \"['pop',\": 915, \"['single',\": 916, \"['sit',\": 917, \"['smoke',\": 918, \"['son',\": 919, \"['type',\": 920, \"['win',\": 921, \"['year',\": 922, \"['young',\": 923, \"'admit',\": 924, \"'american',\": 925, \"'attack',\": 926, \"'bone',\": 927, \"'charge',\": 928, \"'cheese',\": 929, \"'chicken',\": 930, \"'dyke']\": 931, \"'enjoy',\": 932, \"'entire',\": 933, \"'faithful',\": 934, \"'feather',\": 935, \"'fresh',\": 936, \"'group',\": 937, \"'guy']\": 938, \"'gym',\": 939, \"'happy']\": 940, \"'hungry',\": 941, \"'leave']\": 942, \"'level',\": 943, \"'loud',\": 944, \"'mad']\": 945, \"'mexican',\": 946, \"'min',\": 947, \"'naked',\": 948, \"'nose',\": 949, \"'pant',\": 950, \"'past',\": 951, \"'phone']\": 952, \"'place']\": 953, \"'push',\": 954, \"'question',\": 955, \"'raise',\": 956, \"'school']\": 957, \"'sing',\": 958, \"'soon',\": 959, \"'spend',\": 960, \"'star',\": 961, \"'stupid']\": 962, \"'teach',\": 963, \"'teacher',\": 964, \"'thank']\": 965, \"'titty',\": 966, \"'train',\": 967, \"'trip',\": 968, \"'truth',\": 969, \"'twinkie',\": 970, \"'wack',\": 971, \"'weather',\": 972, \"'weird',\": 973, \"'would']\": 974, \"['cheat',\": 975, \"['chick',\": 976, \"['fake',\": 977, \"['gay',\": 978, \"['least',\": 979, \"['name',\": 980, \"['phone',\": 981, \"['shoot',\": 982, \"['teacher',\": 983, \"['text',\": 984, \"['understand',\": 985, \"['walk',\": 986, \"'actin',\": 987, \"'age',\": 988, \"'angry',\": 989, \"'annoying',\": 990, \"'band',\": 991, \"'bean',\": 992, \"'bf',\": 993, \"'blame',\": 994, \"'brain',\": 995, \"'childish',\": 996, \"'clearly',\": 997, \"'cover',\": 998, \"'dat',\": 999, \"'fact']\": 1000, \"'fail',\": 1001, \"'flat',\": 1002, \"'freak',\": 1003, \"'garbage',\": 1004, \"'glad',\": 1005, \"'glass',\": 1006, \"'grab',\": 1007, \"'hat',\": 1008, \"'internet',\": 1009, \"'join',\": 1010, \"'ju',\": 1011, \"'kid']\": 1012, \"'law',\": 1013, \"'lead',\": 1014, \"'mine',\": 1015, \"'moment',\": 1016, \"'momma',\": 1017, \"'much']\": 1018, \"'murder',\": 1019, \"'negro',\": 1020, \"'nut',\": 1021, \"'offensive',\": 1022, \"'page',\": 1023, \"'perfect',\": 1024, \"'period',\": 1025, \"'pig',\": 1026, \"'proud',\": 1027, \"'queer']\": 1028, \"'remind',\": 1029, \"'rip',\": 1030, \"'selfie',\": 1031, \"'shitty',\": 1032, \"'sister',\": 1033, \"'sloppy',\": 1034, \"'sometimes']\": 1035, \"'soul',\": 1036, \"'stalk',\": 1037, \"'stop']\": 1038, \"'talkin',\": 1039, \"'term',\": 1040, \"'tip',\": 1041, \"'track',\": 1042, \"'whine',\": 1043, \"'wild',\": 1044, \"'woman']\": 1045, \"'worry',\": 1046, \"'yesterday',\": 1047, \"['basic',\": 1048, \"['crazy',\": 1049, \"['cunt',\": 1050, \"['dick',\": 1051, \"['fag',\": 1052, \"['ghetto',\": 1053, \"['lady',\": 1054, \"['sometimes',\": 1055, \"['top',\": 1056, \"['word',\": 1057, \"'account',\": 1058, \"'already']\": 1059, \"'anymore']\": 1060, \"'base',\": 1061, \"'bitter',\": 1062, \"'border',\": 1063, \"'boss',\": 1064, \"'bottle',\": 1065, \"'chase',\": 1066, \"'chip',\": 1067, \"'choose',\": 1068, \"'club']\": 1069, \"'control',\": 1070, \"'create',\": 1071, \"'cute']\": 1072, \"'dare',\": 1073, \"'dinner',\": 1074, \"'dope',\": 1075, \"'dumb']\": 1076, \"'episode',\": 1077, \"'everyday']\": 1078, \"'famous',\": 1079, \"'fear',\": 1080, \"'fill',\": 1081, \"'football',\": 1082, \"'future',\": 1083, \"'happen']\": 1084, \"'hard']\": 1085, \"'high']\": 1086, \"'hit']\": 1087, \"'imma',\": 1088, \"'kill']\": 1089, \"'live']\": 1090, \"'lunch',\": 1091, \"'mixtape',\": 1092, \"'nothing',\": 1093, \"'political',\": 1094, \"'porn',\": 1095, \"'prove',\": 1096, \"'relate',\": 1097, \"'respect']\": 1098, \"'ruin',\": 1099, \"'seriously',\": 1100, \"'small',\": 1101, \"'soft',\": 1102, \"'sooo',\": 1103, \"'stress',\": 1104, \"'strong',\": 1105, \"'suck']\": 1106, \"'tall',\": 1107, \"'tape',\": 1108, \"'tattoo',\": 1109, \"'tea',\": 1110, \"'thot',\": 1111, \"'throat',\": 1112, \"'tie',\": 1113, \"'tv',\": 1114, \"'twat']\": 1115, \"'vine',\": 1116, \"'visit',\": 1117, \"'week']\": 1118, \"'window',\": 1119, \"'winter',\": 1120, \"'word']\": 1121, \"'worm',\": 1122, \"['also',\": 1123, \"['dad',\": 1124, \"['die',\": 1125, \"['fact',\": 1126, \"['forget',\": 1127, \"['free',\": 1128, \"['full',\": 1129, \"['honestly',\": 1130, \"['long',\": 1131, \"['mock',\": 1132, \"['mother',\": 1133, \"['nig',\": 1134, \"['speak',\": 1135, \"'around']\": 1136, \"'assume',\": 1137, \"'attention']\": 1138, \"'avi',\": 1139, \"'barely',\": 1140, \"'baseball',\": 1141, \"'better']\": 1142, \"'blind',\": 1143, \"'bomb',\": 1144, \"'bottom',\": 1145, \"'broad',\": 1146, \"'c',\": 1147, \"'choke',\": 1148, \"'college',\": 1149, \"'consider',\": 1150, \"'cookie',\": 1151, \"'coon',\": 1152, \"'crack',\": 1153, \"'cuff',\": 1154, \"'daily',\": 1155, \"'double',\": 1156, \"'draft',\": 1157, \"'duck',\": 1158, \"'dude']\": 1159, \"'dump',\": 1160, \"'everyday',\": 1161, \"'extra',\": 1162, \"'field',\": 1163, \"'flirt',\": 1164, \"'force',\": 1165, \"'forever',\": 1166, \"'fry',\": 1167, \"'g',\": 1168, \"'goal',\": 1169, \"'got',\": 1170, \"'green',\": 1171, \"'haha']\": 1172, \"'hair']\": 1173, \"'heat',\": 1174, \"'human',\": 1175, \"'ignore',\": 1176, \"'let']\": 1177, \"'local',\": 1178, \"'lock',\": 1179, \"'longer',\": 1180, \"'model',\": 1181, \"'move']\": 1182, \"'nation',\": 1183, \"'natural',\": 1184, \"'okay',\": 1185, \"'pack',\": 1186, \"'penis',\": 1187, \"'pink',\": 1188, \"'planet',\": 1189, \"'point']\": 1190, \"'police',\": 1191, \"'problem']\": 1192, \"'punk',\": 1193, \"'random',\": 1194, \"'reply',\": 1195, \"'shake',\": 1196, \"'shower',\": 1197, \"'singe',\": 1198, \"'slant',\": 1199, \"'smash',\": 1200, \"'sock',\": 1201, \"'sometimes',\": 1202, \"'song']\": 1203, \"'special',\": 1204, \"'spot',\": 1205, \"'standard',\": 1206, \"'surprise',\": 1207, \"'swear']\": 1208, \"'take']\": 1209, \"'tank',\": 1210, \"'team']\": 1211, \"'tl',\": 1212, \"'usually',\": 1213, \"'wash',\": 1214, \"'wind',\": 1215, \"'yellow']\": 1216, \"'zebra',\": 1217, \"['finna',\": 1218, \"['happen',\": 1219, \"['retarded']\": 1220, \"['slap',\": 1221, \"['sorry',\": 1222, \"['wear',\": 1223, \"'accept',\": 1224, \"'albino',\": 1225, \"'anyway',\": 1226, \"'ape']\": 1227, \"'arm',\": 1228, \"'b']\": 1229, \"'basically',\": 1230, \"'belong',\": 1231, \"'bill',\": 1232, \"'block']\": 1233, \"'blood',\": 1234, \"'breath',\": 1235, \"'burn',\": 1236, \"'business']\": 1237, \"'care']\": 1238, \"'career',\": 1239, \"'cat']\": 1240, \"'class']\": 1241, \"'complete',\": 1242, \"'conversation',\": 1243, \"'coward',\": 1244, \"'crib',\": 1245, \"'crow',\": 1246, \"'cuz',\": 1247, \"'definitely',\": 1248, \"'den',\": 1249, \"'dnt',\": 1250, \"'dry',\": 1251, \"'exactly',\": 1252, \"'expose',\": 1253, \"'eyebrow',\": 1254, \"'fit',\": 1255, \"'grandma',\": 1256, \"'hater',\": 1257, \"'hole',\": 1258, \"'hug',\": 1259, \"'impress',\": 1260, \"'issue',\": 1261, \"'joke']\": 1262, \"'key',\": 1263, \"'lady']\": 1264, \"'latina',\": 1265, \"'laugh']\": 1266, \"'lucky',\": 1267, \"'makeup',\": 1268, \"'mature',\": 1269, \"'message',\": 1270, \"'mouth']\": 1271, \"'nerve',\": 1272, \"'old']\": 1273, \"'p',\": 1274, \"'paint',\": 1275, \"'party']\": 1276, \"'photo',\": 1277, \"'pic']\": 1278, \"'playing',\": 1279, \"'president',\": 1280, \"'purpose',\": 1281, \"'really']\": 1282, \"'record',\": 1283, \"'refer',\": 1284, \"'regular',\": 1285, \"'retweet',\": 1286, \"'road',\": 1287, \"'sauce',\": 1288, \"'shove',\": 1289, \"'size',\": 1290, \"'slave',\": 1291, \"'snap',\": 1292, \"'sneak',\": 1293, \"'sport',\": 1294, \"'stripper',\": 1295, \"'student',\": 1296, \"'sweat',\": 1297, \"'thought',\": 1298, \"'together']\": 1299, \"'tomorrow']\": 1300, \"'total',\": 1301, \"'tough',\": 1302, \"'tree',\": 1303, \"'wait']\": 1304, \"'whiny',\": 1305, \"'wit']\": 1306, \"'wrong']\": 1307, \"'yr',\": 1308, \"['cute',\": 1309, \"['glad',\": 1310, \"['got',\": 1311, \"['grow',\": 1312, \"['hell',\": 1313, \"['hot',\": 1314, \"['light',\": 1315, \"['literally',\": 1316, \"['next',\": 1317, \"['nicca',\": 1318, \"['nice',\": 1319, \"['point',\": 1320, \"['reason',\": 1321, \"['ride',\": 1322, \"['seriously',\": 1323, \"['thirsty',\": 1324, \"['tryna',\": 1325, \"['ur',\": 1326, \"['well',\": 1327, \"['worry',\": 1328, \"'apple',\": 1329, \"'arrest',\": 1330, \"'average',\": 1331, \"'basketball',\": 1332, \"'beard',\": 1333, \"'beat']\": 1334, \"'bed']\": 1335, \"'bit',\": 1336, \"'brag',\": 1337, \"'bread',\": 1338, \"'bullet',\": 1339, \"'bump',\": 1340, \"'bus',\": 1341, \"'cake',\": 1342, \"'caption',\": 1343, \"'case',\": 1344, \"'cash',\": 1345, \"'celebrate',\": 1346, \"'chink',\": 1347, \"'coloured',\": 1348, \"'constantly',\": 1349, \"'crash',\": 1350, \"'crime',\": 1351, \"'cross',\": 1352, \"'daughter',\": 1353, \"'dip',\": 1354, \"'disrespect',\": 1355, \"'dm',\": 1356, \"'drunk']\": 1357, \"'e',\": 1358, \"'easily',\": 1359, \"'fam',\": 1360, \"'fat']\": 1361, \"'figure',\": 1362, \"'flag',\": 1363, \"'folk']\": 1364, \"'follow']\": 1365, \"'fool',\": 1366, \"'friendly',\": 1367, \"'h',\": 1368, \"'hip',\": 1369, \"'hurt']\": 1370, \"'hype',\": 1371, \"'irrelevant',\": 1372, \"'jealous',\": 1373, \"'joint',\": 1374, \"'juice',\": 1375, \"'line']\": 1376, \"'marriage',\": 1377, \"'meet']\": 1378, \"'messy',\": 1379, \"'movie']\": 1380, \"'near',\": 1381, \"'needa',\": 1382, \"'ok']\": 1383, \"'opinion',\": 1384, \"'pantie',\": 1385, \"'pass']\": 1386, \"'personality',\": 1387, \"'pill',\": 1388, \"'playoff',\": 1389, \"'pm',\": 1390, \"'pound',\": 1391, \"'rise',\": 1392, \"'rude',\": 1393, \"'secret',\": 1394, \"'sex']\": 1395, \"'sexual',\": 1396, \"'soccer',\": 1397, \"'spit',\": 1398, \"'store',\": 1399, \"'study',\": 1400, \"'sub',\": 1401, \"'table',\": 1402, \"'tear',\": 1403, \"'th',\": 1404, \"'true']\": 1405, \"'twist',\": 1406, \"'vote',\": 1407, \"['actually',\": 1408, \"['agree',\": 1409, \"['birthday',\": 1410, \"['boss',\": 1411, \"['broke',\": 1412, \"['brother',\": 1413, \"['cat',\": 1414, \"['cause',\": 1415, \"['chill',\": 1416, \"['cry',\": 1417, \"['dog',\": 1418, \"['drink',\": 1419, \"['listen',\": 1420, \"['meet',\": 1421, \"['mind',\": 1422, \"['ratchet',\": 1423, \"['redneck',\": 1424, \"['shout',\": 1425, \"['stick',\": 1426, \"['suppose',\": 1427, \"['teach',\": 1428, \"['true',\": 1429, \"'address',\": 1430, \"'ago']\": 1431, \"'air',\": 1432, \"'appreciate',\": 1433, \"'argument',\": 1434, \"'bald',\": 1435, \"'ball']\": 1436, \"'ban',\": 1437, \"'bday',\": 1438, \"'bio',\": 1439, \"'birth',\": 1440, \"'bite',\": 1441, \"'boring',\": 1442, \"'breed',\": 1443, \"'bull',\": 1444, \"'camera',\": 1445, \"'car']\": 1446, \"'chain',\": 1447, \"'chat',\": 1448, \"'cheap',\": 1449, \"'cheat']\": 1450, \"'chunky',\": 1451, \"'church',\": 1452, \"'clear',\": 1453, \"'coffee',\": 1454, \"'commercial',\": 1455, \"'compare',\": 1456, \"'continue',\": 1457, \"'coon']\": 1458, \"'copy',\": 1459, \"'corny',\": 1460, \"'cotton',\": 1461, \"'credit',\": 1462, \"'cripple',\": 1463, \"'cum',\": 1464, \"'cut']\": 1465, \"'dam',\": 1466, \"'damn']\": 1467, \"'dead']\": 1468, \"'dream']\": 1469, \"'ear',\": 1470, \"'earth',\": 1471, \"'either']\": 1472, \"'election',\": 1473, \"'fairy',\": 1474, \"'family']\": 1475, \"'fashion',\": 1476, \"'feeling']\": 1477, \"'find']\": 1478, \"'fine']\": 1479, \"'first']\": 1480, \"'fix',\": 1481, \"'flight',\": 1482, \"'floor',\": 1483, \"'fucked',\": 1484, \"'gift',\": 1485, \"'give']\": 1486, \"'homeless',\": 1487, \"'homie']\": 1488, \"'honestly',\": 1489, \"'important',\": 1490, \"'karma',\": 1491, \"'level']\": 1492, \"'lol',\": 1493, \"'loser',\": 1494, \"'lyric',\": 1495, \"'mall',\": 1496, \"'mane',\": 1497, \"'mans',\": 1498, \"'match',\": 1499, \"'nail',\": 1500, \"'nap',\": 1501, \"'nasty']\": 1502, \"'news',\": 1503, \"'nip']\": 1504, \"'ok',\": 1505, \"'ole',\": 1506, \"'oreo',\": 1507, \"'pot',\": 1508, \"'pray',\": 1509, \"'press',\": 1510, \"'pretend',\": 1511, \"'price',\": 1512, \"'promise',\": 1513, \"'protect',\": 1514, \"'quick']\": 1515, \"'quiet',\": 1516, \"'quote',\": 1517, \"'rain',\": 1518, \"'redneck']\": 1519, \"'report',\": 1520, \"'respond',\": 1521, \"'rule',\": 1522, \"'safe',\": 1523, \"'sentence',\": 1524, \"'serious']\": 1525, \"'shape',\": 1526, \"'shave',\": 1527, \"'shut']\": 1528, \"'side']\": 1529, \"'silly',\": 1530, \"'slut']\": 1531, \"'snack',\": 1532, \"'snow',\": 1533, \"'spa',\": 1534, \"'spread',\": 1535, \"'stink',\": 1536, \"'tag',\": 1537, \"'taste']\": 1538, \"'tbh',\": 1539, \"'teen',\": 1540, \"'thirst',\": 1541, \"'toy',\": 1542, \"'tranny']\": 1543, \"'trashy',\": 1544, \"'truly',\": 1545, \"'trust']\": 1546, \"'turn']\": 1547, \"'twat',\": 1548, \"'twin',\": 1549, \"'ugly']\": 1550, \"'unfollow',\": 1551, \"'use']\": 1552, \"'view',\": 1553, \"'wanna']\": 1554, \"'wide',\": 1555, \"'wifey',\": 1556, \"'wop',\": 1557, \"'wrap',\": 1558, \"'yet']\": 1559, \"['annoying',\": 1560, \"['basically',\": 1561, \"['block',\": 1562, \"['check',\": 1563, \"['ex',\": 1564, \"['eye',\": 1565, \"['fine',\": 1566, \"['flappy',\": 1567, \"['girlfriend',\": 1568, \"['gon',\": 1569, \"['hang',\": 1570, \"['hella',\": 1571, \"['home',\": 1572, \"['joke',\": 1573, \"['ju',\": 1574, \"['kick',\": 1575, \"['kind',\": 1576, \"['kno',\": 1577, \"['learn',\": 1578, \"['loyal',\": 1579, \"['move',\": 1580, \"['movie',\": 1581, \"['music',\": 1582, \"['news',\": 1583, \"['night',\": 1584, \"['pass',\": 1585, \"['person',\": 1586, \"['photo',\": 1587, \"['post',\": 1588, \"['problem',\": 1589, \"['prolly',\": 1590, \"['rather',\": 1591, \"['read',\": 1592, \"['respect',\": 1593, \"['retard',\": 1594, \"['rich',\": 1595, \"['sad',\": 1596, \"['seem',\": 1597, \"['sex',\": 1598, \"['sister',\": 1599, \"['sure',\": 1600, \"['write',\": 1601, \"'able',\": 1602, \"'action',\": 1603, \"'afraid',\": 1604, \"'aka',\": 1605, \"'anyway']\": 1606, \"'apart',\": 1607, \"'appear',\": 1608, \"'area',\": 1609, \"'artist',\": 1610, \"'automatically',\": 1611, \"'babe',\": 1612, \"'beaner']\": 1613, \"'beanie',\": 1614, \"'blast',\": 1615, \"'bless',\": 1616, \"'boot',\": 1617, \"'bounce',\": 1618, \"'bow',\": 1619, \"'bud',\": 1620, \"'butter',\": 1621, \"'cap',\": 1622, \"'change']\": 1623, \"'character',\": 1624, \"'circle',\": 1625, \"'classic',\": 1626, \"'classy',\": 1627, \"'close']\": 1628, \"'clown',\": 1629, \"'coach',\": 1630, \"'conservative',\": 1631, \"'contact',\": 1632, \"'control']\": 1633, \"'couch',\": 1634, \"'course',\": 1635, \"'court',\": 1636, \"'crowd',\": 1637, \"'curl',\": 1638, \"'curve',\": 1639, \"'decide',\": 1640, \"'defend',\": 1641, \"'diamond',\": 1642, \"'dms',\": 1643, \"'draw',\": 1644, \"'dress']\": 1645, \"'drown',\": 1646, \"'dumbass',\": 1647, \"'earn',\": 1648, \"'entertain',\": 1649, \"'equal',\": 1650, \"'fan']\": 1651, \"'father',\": 1652, \"'filthy',\": 1653, \"'final',\": 1654, \"'flock',\": 1655, \"'form',\": 1656, \"'fun']\": 1657, \"'guinea',\": 1658, \"'hear']\": 1659, \"'hipster',\": 1660, \"'honest',\": 1661, \"'horse',\": 1662, \"'ig',\": 1663, \"'ignorant',\": 1664, \"'ina',\": 1665, \"'include',\": 1666, \"'invite',\": 1667, \"'iphone',\": 1668, \"'iubb',\": 1669, \"'jacket',\": 1670, \"'jam',\": 1671, \"'japanese',\": 1672, \"'job']\": 1673, \"'king',\": 1674, \"'kitchen',\": 1675, \"'land',\": 1676, \"'left',\": 1677, \"'lesbian',\": 1678, \"'link',\": 1679, \"'liquor',\": 1680, \"'load',\": 1681, \"'luck',\": 1682, \"'male',\": 1683, \"'mention']\": 1684, \"'minute']\": 1685, \"'miss']\": 1686, \"'morning']\": 1687, \"'music']\": 1688, \"'often',\": 1689, \"'op',\": 1690, \"'oreo']\": 1691, \"'outfit',\": 1692, \"'pay']\": 1693, \"'peace',\": 1694, \"'picture']\": 1695, \"'pocket',\": 1696, \"'pom',\": 1697, \"'position',\": 1698, \"'pregnant']\": 1699, \"'pure',\": 1700, \"'purple',\": 1701, \"'put']\": 1702, \"'queen']\": 1703, \"'raw',\": 1704, \"'reality',\": 1705, \"'release',\": 1706, \"'return',\": 1707, \"'rice',\": 1708, \"'run']\": 1709, \"'salad',\": 1710, \"'scared',\": 1711, \"'screen',\": 1712, \"'self']\": 1713, \"'selfish',\": 1714, \"'settle',\": 1715, \"'shout',\": 1716, \"'show']\": 1717, \"'shy',\": 1718, \"'sideline',\": 1719, \"'silence',\": 1720, \"'slay',\": 1721, \"'solid',\": 1722, \"'somewhere',\": 1723, \"'son']\": 1724, \"'sorry']\": 1725, \"'stage',\": 1726, \"'stank',\": 1727, \"'stare',\": 1728, \"'start']\": 1729, \"'strap',\": 1730, \"'teaparty',\": 1731, \"'threaten',\": 1732, \"'tit',\": 1733, \"'town']\": 1734, \"'trade',\": 1735, \"'trend',\": 1736, \"'truth']\": 1737, \"'update',\": 1738, \"'weed']\": 1739, \"'welcome',\": 1740, \"'wing',\": 1741, \"['brownie',\": 1742, \"['bruh',\": 1743, \"['club',\": 1744, \"['dear',\": 1745, \"['definitely',\": 1746, \"['drive',\": 1747, \"['else',\": 1748, \"['exactly',\": 1749, \"['face',\": 1750, \"['fall',\": 1751, \"['hand',\": 1752, \"['jealous',\": 1753, \"['kinda',\": 1754, \"['low',\": 1755, \"['lucky',\": 1756, \"['monkey',\": 1757, \"['nasty',\": 1758, \"['niccas',\": 1759, \"['niggaz',\": 1760, \"['nigger',\": 1761, \"['nigger']\": 1762, \"['notice',\": 1763, \"['opinion',\": 1764, \"['relationship',\": 1765, \"['retweet',\": 1766, \"['save',\": 1767, \"['sell',\": 1768, \"['sexy',\": 1769, \"['skinny',\": 1770, \"['sleep',\": 1771, \"['smell',\": 1772, \"['teabagger',\": 1773, \"['touch',\": 1774, \"['weird',\": 1775, \"['wife',\": 1776, \"['world',\": 1777, \"'absolute',\": 1778, \"'actual',\": 1779, \"'afford',\": 1780, \"'agree',\": 1781, \"'alien',\": 1782, \"'alive',\": 1783, \"'amazing',\": 1784, \"'angel',\": 1785, \"'army',\": 1786, \"'ask']\": 1787, \"'attitude']\": 1788, \"'awesome',\": 1789, \"'baby']\": 1790, \"'beanie']\": 1791, \"'bee',\": 1792, \"'blow']\": 1793, \"'bomb']\": 1794, \"'boobs',\": 1795, \"'boom',\": 1796, \"'bra',\": 1797, \"'break']\": 1798, \"'breakfast',\": 1799, \"'bucket',\": 1800, \"'bullshit']\": 1801, \"'bum',\": 1802, \"'buy']\": 1803, \"'cell',\": 1804, \"'champion',\": 1805, \"'clock',\": 1806, \"'community',\": 1807, \"'confused',\": 1808, \"'contact']\": 1809, \"'crew',\": 1810, \"'crush',\": 1811, \"'cry']\": 1812, \"'def',\": 1813, \"'demand',\": 1814, \"'deny',\": 1815, \"'design',\": 1816, \"'dirt',\": 1817, \"'disrespectful',\": 1818, \"'dog']\": 1819, \"'door']\": 1820, \"'dread',\": 1821, \"'duty',\": 1822, \"'easy']\": 1823, \"'egg',\": 1824, \"'emoji',\": 1825, \"'emotion',\": 1826, \"'end']\": 1827, \"'everywhere',\": 1828, \"'everywhere']\": 1829, \"'evil',\": 1830, \"'excited',\": 1831, \"'exist',\": 1832, \"'experience',\": 1833, \"'fade',\": 1834, \"'film',\": 1835, \"'finally',\": 1836, \"'focus',\": 1837, \"'foreign',\": 1838, \"'fr']\": 1839, \"'freshman',\": 1840, \"'fruit',\": 1841, \"'fucce',\": 1842, \"'fucker']\": 1843, \"'fucking']\": 1844, \"'funky',\": 1845, \"'gay']\": 1846, \"'generation',\": 1847, \"'gf',\": 1848, \"'gram',\": 1849, \"'grill',\": 1850, \"'ground',\": 1851, \"'grow']\": 1852, \"'hand']\": 1853, \"'hire',\": 1854, \"'homeboy',\": 1855, \"'illegal',\": 1856, \"'inch',\": 1857, \"'innocent',\": 1858, \"'insecure',\": 1859, \"'insult',\": 1860, \"'interview',\": 1861, \"'judge',\": 1862, \"'language',\": 1863, \"'large',\": 1864, \"'lazy',\": 1865, \"'legal',\": 1866, \"'lingerie',\": 1867, \"'list',\": 1868, \"'listen']\": 1869, \"'loose',\": 1870, \"'lose']\": 1871, \"'matter']\": 1872, \"'medical',\": 1873, \"'member',\": 1874, \"'memory',\": 1875, \"'mile',\": 1876, \"'milk',\": 1877, \"'mind']\": 1878, \"'mini',\": 1879, \"'mix',\": 1880, \"'moan',\": 1881, \"'month']\": 1882, \"'neck']\": 1883, \"'negro']\": 1884, \"'neighbor',\": 1885, \"'offer',\": 1886, \"'oil',\": 1887, \"'one']\": 1888, \"'orange',\": 1889, \"'pair',\": 1890, \"'pathetic',\": 1891, \"'peep',\": 1892, \"'pizza',\": 1893, \"'plane',\": 1894, \"'player']\": 1895, \"'plenty',\": 1896, \"'porch',\": 1897, \"'pose',\": 1898, \"'ppl',\": 1899, \"'proof',\": 1900, \"'public']\": 1901, \"'racism',\": 1902, \"'radio',\": 1903, \"'rant',\": 1904, \"'reach',\": 1905, \"'remember']\": 1906, \"'rent',\": 1907, \"'ride']\": 1908, \"'rider',\": 1909, \"'roll']\": 1910, \"'root',\": 1911, \"'sack',\": 1912, \"'salty',\": 1913, \"'scene',\": 1914, \"'search',\": 1915, \"'season']\": 1916, \"'seat']\": 1917, \"'senior',\": 1918, \"'sensitive',\": 1919, \"'shame',\": 1920, \"'shoot']\": 1921, \"'shop',\": 1922, \"'sick']\": 1923, \"'skank',\": 1924, \"'skill',\": 1925, \"'slam',\": 1926, \"'slick',\": 1927, \"'sniff',\": 1928, \"'snitch',\": 1929, \"'spa']\": 1930, \"'spell',\": 1931, \"'steady',\": 1932, \"'stomach',\": 1933, \"'stone',\": 1934, \"'strong']\": 1935, \"'struggle',\": 1936, \"'stunt',\": 1937, \"'switch',\": 1938, \"'taco',\": 1939, \"'target',\": 1940, \"'tat',\": 1941, \"'text']\": 1942, \"'thinkin',\": 1943, \"'though',\": 1944, \"'threat',\": 1945, \"'threesome',\": 1946, \"'throw']\": 1947, \"'ticket',\": 1948, \"'truck',\": 1949, \"'try']\": 1950, \"'typical',\": 1951, \"'unfollowe',\": 1952, \"'uniform',\": 1953, \"'vagina',\": 1954, \"'vet',\": 1955, \"'virgin',\": 1956, \"'voice']\": 1957, \"'war',\": 1958, \"'weave',\": 1959, \"'weekend']\": 1960, \"'wet']\": 1961, \"'white']\": 1962, \"'whore']\": 1963, \"'willing',\": 1964, \"'wine',\": 1965, \"['%',\": 1966, \"['apparently',\": 1967, \"['blame',\": 1968, \"['bunch',\": 1969, \"['change',\": 1970, \"['choke',\": 1971, \"['clean',\": 1972, \"['color',\": 1973, \"['course',\": 1974, \"['dead',\": 1975, \"['deep',\": 1976, \"['dirty',\": 1977, \"['dress',\": 1978, \"['easy',\": 1979, \"['finally',\": 1980, \"['finger',\": 1981, \"['foot',\": 1982, \"['grade',\": 1983, \"['hairy',\": 1984, \"['half',\": 1985, \"['head',\": 1986, \"['lame',\": 1987, \"['late',\": 1988, \"['laugh',\": 1989, \"['lookin',\": 1990, \"['matter',\": 1991, \"['mention',\": 1992, \"['nigguh']\": 1993, \"['open',\": 1994, \"['pay',\": 1995, \"['perfect',\": 1996, \"['pick',\": 1997, \"['place',\": 1998, \"['poor',\": 1999, \"['pregnant',\": 2000, \"['realize',\": 2001, \"['rise',\": 2002, \"['school',\": 2003, \"['shoutout',\": 2004, \"['song',\": 2005, \"['summer',\": 2006, \"['swag',\": 2007, \"['tonight',\": 2008, \"['unfollowe',\": 2009, \"['welcome',\": 2010, \"['whole',\": 2011, \"['yesterday',\": 2012, \"'_']\": 2013, \"'absolutely',\": 2014, \"'account']\": 2015, \"'adult',\": 2016, \"'advice',\": 2017, \"'african',\": 2018, \"'ahead',\": 2019, \"'aid',\": 2020, \"'album',\": 2021, \"'amp']\": 2022, \"'app',\": 2023, \"'apparently',\": 2024, \"'ashamed',\": 2025, \"'asshole']\": 2026, \"'atleast',\": 2027, \"'attractive']\": 2028, \"'background',\": 2029, \"'badass',\": 2030, \"'bag']\": 2031, \"'bandwagon',\": 2032, \"'bank',\": 2033, \"'basic']\": 2034, \"'bear']\": 2035, \"'beautiful']\": 2036, \"'bein',\": 2037, \"'big']\": 2038, \"'blame']\": 2039, \"'blood']\": 2040, \"'bore',\": 2041, \"'boss']\": 2042, \"'bout']\": 2043, \"'breast',\": 2044, \"'breathe',\": 2045, \"'british',\": 2046, \"'bubble',\": 2047, \"'buddy',\": 2048, \"'busy',\": 2049, \"'ca',\": 2050, \"'camel',\": 2051, \"'celebrity',\": 2052, \"'challenge',\": 2053, \"'cheek',\": 2054, \"'chill']\": 2055, \"'chinese',\": 2056, \"'choice',\": 2057, \"'choose']\": 2058, \"'clean']\": 2059, \"'color']\": 2060, \"'commit',\": 2061, \"'compliment',\": 2062, \"'cook']\": 2063, \"'cool']\": 2064, \"'corner',\": 2065, \"'costume',\": 2066, \"'could']\": 2067, \"'crap',\": 2068, \"'crow']\": 2069, \"'daddy']\": 2070, \"'dawg',\": 2071, \"'debate',\": 2072, \"'defeat',\": 2073, \"'desperate',\": 2074, \"'destroy',\": 2075, \"'dig',\": 2076, \"'dike',\": 2077, \"'dis',\": 2078, \"'discover',\": 2079, \"'disease',\": 2080, \"'disgrace',\": 2081, \"'doe',\": 2082, \"'doe']\": 2083, \"'download',\": 2084, \"'drive']\": 2085, \"'earth']\": 2086, \"'ego',\": 2087, \"'email',\": 2088, \"'emotional',\": 2089, \"'even']\": 2090, \"'expensive',\": 2091, \"'eye']\": 2092, \"'fake']\": 2093, \"'fancy',\": 2094, \"'finger']\": 2095, \"'fly']\": 2096, \"'fob',\": 2097, \"'forever']\": 2098, \"'forward',\": 2099, \"'foul',\": 2100, \"'free']\": 2101, \"'function',\": 2102, \"'g']\": 2103, \"'gang',\": 2104, \"'girlfriend']\": 2105, \"'goddamn',\": 2106, \"'gorgeous',\": 2107, \"'grand',\": 2108, \"'great']\": 2109, \"'gut',\": 2110, \"'hack',\": 2111, \"'harder',\": 2112, \"'heart']\": 2113, \"'help']\": 2114, \"'hero',\": 2115, \"'hick',\": 2116, \"'homework',\": 2117, \"'homie',\": 2118, \"'honkie']\": 2119, \"'hook',\": 2120, \"'http',\": 2121, \"'hungry']\": 2122, \"'hurry',\": 2123, \"'idiot',\": 2124, \"'info',\": 2125, \"'inside',\": 2126, \"'island',\": 2127, \"'issue']\": 2128, \"'jig']\": 2129, \"'jungle',\": 2130, \"'khaki',\": 2131, \"'lad',\": 2132, \"'later']\": 2133, \"'league',\": 2134, \"'lean',\": 2135, \"'leg']\": 2136, \"'less']\": 2137, \"'lightskin',\": 2138, \"'limit',\": 2139, \"'log',\": 2140, \"'long']\": 2141, \"'lotta',\": 2142, \"'major',\": 2143, \"'melt',\": 2144, \"'mentally',\": 2145, \"'mf',\": 2146, \"'mixed',\": 2147, \"'molly',\": 2148, \"'mood',\": 2149, \"'moron',\": 2150, \"'muzzie',\": 2151, \"'necessary',\": 2152, \"'neighborhood',\": 2153, \"'next']\": 2154, \"'niccas']\": 2155, \"'niggas']\": 2156, \"'number']\": 2157, \"'official',\": 2158, \"'outside']\": 2159, \"'owe',\": 2160, \"'pack']\": 2161, \"'pee',\": 2162, \"'petty',\": 2163, \"'pick']\": 2164, \"'pierce',\": 2165, \"'pineapple',\": 2166, \"'pissed',\": 2167, \"'pit',\": 2168, \"'plan']\": 2169, \"'poll',\": 2170, \"'possess',\": 2171, \"'powder',\": 2172, \"'question']\": 2173, \"'reason']\": 2174, \"'refuse',\": 2175, \"'remain',\": 2176, \"'resist',\": 2177, \"'response',\": 2178, \"'rid',\": 2179, \"'rn',\": 2180, \"'rob',\": 2181, \"'rock']\": 2182, \"'role',\": 2183, \"'room']\": 2184, \"'rub',\": 2185, \"'sad']\": 2186, \"'sale',\": 2187, \"'savage',\": 2188, \"'scally',\": 2189, \"'scratch',\": 2190, \"'shade',\": 2191, \"'shirt']\": 2192, \"'shoe']\": 2193, \"'simple',\": 2194, \"'simply',\": 2195, \"'sky',\": 2196, \"'sluts',\": 2197, \"'smoking',\": 2198, \"'snatch',\": 2199, \"'snitch']\": 2200, \"'something']\": 2201, \"'soon']\": 2202, \"'soooo',\": 2203, \"'spider',\": 2204, \"'spot']\": 2205, \"'spy',\": 2206, \"'squirt',\": 2207, \"'status',\": 2208, \"'steak',\": 2209, \"'stink']\": 2210, \"'string',\": 2211, \"'suit',\": 2212, \"'system',\": 2213, \"'thang',\": 2214, \"'thot']\": 2215, \"'til',\": 2216, \"'ton',\": 2217, \"'tour',\": 2218, \"'trailer',\": 2219, \"'travel',\": 2220, \"'trip']\": 2221, \"'troll',\": 2222, \"'trynna',\": 2223, \"'twice',\": 2224, \"'upper',\": 2225, \"'vampire',\": 2226, \"'version',\": 2227, \"'vibe']\": 2228, \"'walk']\": 2229, \"'wana',\": 2230, \"'war']\": 2231, \"'wave',\": 2232, \"'weave']\": 2233, \"'world']\": 2234, \"'worth']\": 2235, \"'wreck',\": 2236, \"['absolutely',\": 2237, \"['aka',\": 2238, \"['argue',\": 2239, \"['badd',\": 2240, \"['ball',\": 2241, \"['btw',\": 2242, \"['burn',\": 2243, \"['car',\": 2244, \"['chase',\": 2245, \"['colored',\": 2246, \"['cool',\": 2247, \"['cowboy',\": 2248, \"['currently',\": 2249, \"['delete',\": 2250, \"['dem',\": 2251, \"['dollar',\": 2252, \"['double',\": 2253, \"['drunk',\": 2254, \"['entertain',\": 2255, \"['expect',\": 2256, \"['explain',\": 2257, \"['fly',\": 2258, \"['grand',\": 2259, \"['hair',\": 2260, \"['handle',\": 2261, \"['hard',\": 2262, \"['horny',\": 2263, \"['hurt',\": 2264, \"['ill',\": 2265, \"['judge',\": 2266, \"['knock',\": 2267, \"['liberal',\": 2268, \"['momma',\": 2269, \"['nip',\": 2270, \"['none',\": 2271, \"['order',\": 2272, \"['part',\": 2273, \"['picture',\": 2274, \"['piss',\": 2275, \"['plot',\": 2276, \"['punch',\": 2277, \"['queer',\": 2278, \"['scream',\": 2279, \"['serious',\": 2280, \"['shy',\": 2281, \"['slow',\": 2282, \"['smile',\": 2283, \"['soft',\": 2284, \"['steal',\": 2285, \"['step',\": 2286, \"['strong',\": 2287, \"['support',\": 2288, \"['sweet',\": 2289, \"['treat',\": 2290, \"['video',\": 2291, \"'ability',\": 2292, \"'abortion',\": 2293, \"'abt',\": 2294, \"'abuse',\": 2295, \"'action']\": 2296, \"'ad',\": 2297, \"'af']\": 2298, \"'almost']\": 2299, \"'alone']\": 2300, \"'alot',\": 2301, \"'amendment',\": 2302, \"'amount',\": 2303, \"'answer']\": 2304, \"'anyways']\": 2305, \"'anywhere',\": 2306, \"'appreciate']\": 2307, \"'asleep',\": 2308, \"'award',\": 2309, \"'awful',\": 2310, \"'barrel',\": 2311, \"'bath',\": 2312, \"'beauty',\": 2313, \"'beg',\": 2314, \"'belt',\": 2315, \"'bestfriend',\": 2316, \"'betta',\": 2317, \"'bind',\": 2318, \"'blanket',\": 2319, \"'blonde',\": 2320, \"'bloody',\": 2321, \"'boat',\": 2322, \"'bone']\": 2323, \"'boob',\": 2324, \"'borrow',\": 2325, \"'boyfriend']\": 2326, \"'brand',\": 2327, \"'brazilian',\": 2328, \"'bring']\": 2329, \"'brown',\": 2330, \"'bunny',\": 2331, \"'butt']\": 2332, \"'button',\": 2333, \"'calm',\": 2334, \"'camp',\": 2335, \"'campaign',\": 2336, \"'canadian',\": 2337, \"'cancel',\": 2338, \"'catch']\": 2339, \"'certain',\": 2340, \"'check']\": 2341, \"'cigarette',\": 2342, \"'circle']\": 2343, \"'clam']\": 2344, \"'click',\": 2345, \"'clip',\": 2346, \"'cloud',\": 2347, \"'clue',\": 2348, \"'cock']\": 2349, \"'code']\": 2350, \"'cold']\": 2351, \"'colored']\": 2352, \"'common',\": 2353, \"'compete',\": 2354, \"'confuse',\": 2355, \"'cop']\": 2356, \"'corn',\": 2357, \"'corner']\": 2358, \"'creepy',\": 2359, \"'cuh']\": 2360, \"'current',\": 2361, \"'cus',\": 2362, \"'da',\": 2363, \"'date']\": 2364, \"'dawn',\": 2365, \"'debate']\": 2366, \"'decision',\": 2367, \"'deck',\": 2368, \"'demon',\": 2369, \"'deserve']\": 2370, \"'devil',\": 2371, \"'dip']\": 2372, \"'disgust',\": 2373, \"'dish',\": 2374, \"'diss',\": 2375, \"'divorce',\": 2376, \"'doctor',\": 2377, \"'dome',\": 2378, \"'doubt',\": 2379, \"'drag',\": 2380, \"'dragon',\": 2381, \"'drip',\": 2382, \"'driver']\": 2383, \"'drop']\": 2384, \"'effect',\": 2385, \"'elephant',\": 2386, \"'eliminate',\": 2387, \"'else']\": 2388, \"'era',\": 2389, \"'essay',\": 2390, \"'example',\": 2391, \"'exit',\": 2392, \"'explain',\": 2393, \"'fair',\": 2394, \"'false',\": 2395, \"'far']\": 2396, \"'fart',\": 2397, \"'fast']\": 2398, \"'faster',\": 2399, \"'fav',\": 2400, \"'favorite']\": 2401, \"'fist',\": 2402, \"'flick',\": 2403, \"'flower',\": 2404, \"'follower']\": 2405, \"'food']\": 2406, \"'fool']\": 2407, \"'gain',\": 2408, \"'garden',\": 2409, \"'goat']\": 2410, \"'gorilla',\": 2411, \"'government',\": 2412, \"'governor',\": 2413, \"'grass',\": 2414, \"'grown',\": 2415, \"'guilty',\": 2416, \"'gum',\": 2417, \"'gunna',\": 2418, \"'handle']\": 2419, \"'handsome',\": 2420, \"'heartless',\": 2421, \"'highly',\": 2422, \"'hilarious',\": 2423, \"'history',\": 2424, \"'hoop',\": 2425, \"'hopefully',\": 2426, \"'horny',\": 2427, \"'horror',\": 2428, \"'however',\": 2429, \"'hunt',\": 2430, \"'hypocrisy',\": 2431, \"'interest',\": 2432, \"'jack',\": 2433, \"'k',\": 2434, \"'key']\": 2435, \"'kick']\": 2436, \"'lake',\": 2437, \"'lately']\": 2438, \"'legend',\": 2439, \"'legging',\": 2440, \"'lemme',\": 2441, \"'lift',\": 2442, \"'light']\": 2443, \"'likely',\": 2444, \"'lip']\": 2445, \"'logic',\": 2446, \"'magic',\": 2447, \"'mass',\": 2448, \"'master',\": 2449, \"'material',\": 2450, \"'math',\": 2451, \"'meat',\": 2452, \"'mess']\": 2453, \"'mine']\": 2454, \"'mistake',\": 2455, \"'mo',\": 2456, \"'moon',\": 2457, \"'motherfucker',\": 2458, \"'muscle',\": 2459, \"'neva',\": 2460, \"'nipple',\": 2461, \"'nowhere',\": 2462, \"'nun',\": 2463, \"'obviously',\": 2464, \"'office',\": 2465, \"'okay']\": 2466, \"'open']\": 2467, \"'opportunity',\": 2468, \"'oppose',\": 2469, \"'option',\": 2470, \"'otherwise',\": 2471, \"'outta']\": 2472, \"'pancake',\": 2473, \"'pencil',\": 2474, \"'period']\": 2475, \"'personal',\": 2476, \"'pie',\": 2477, \"'pie']\": 2478, \"'piss']\": 2479, \"'plastic',\": 2480, \"'pointless',\": 2481, \"'pole',\": 2482, \"'pool',\": 2483, \"'poop',\": 2484, \"'possible',\": 2485, \"'prepare',\": 2486, \"'pressure',\": 2487, \"'print',\": 2488, \"'private',\": 2489, \"'probably']\": 2490, \"'prom',\": 2491, \"'propaganda',\": 2492, \"'psycho',\": 2493, \"'pump',\": 2494, \"'punch']\": 2495, \"'purge',\": 2496, \"'queen',\": 2497, \"'racist']\": 2498, \"'rack',\": 2499, \"'read']\": 2500, \"'realize']\": 2501, \"'ref',\": 2502, \"'regardless']\": 2503, \"'restaurant',\": 2504, \"'retire',\": 2505, \"'revenge',\": 2506, \"'rn']\": 2507, \"'roast',\": 2508, \"'royal',\": 2509, \"'sand',\": 2510, \"'sandwich',\": 2511, \"'schedule',\": 2512, \"'serve',\": 2513, \"'shawty',\": 2514, \"'shock',\": 2515, \"'shopping',\": 2516, \"'shorty',\": 2517, \"'shoulda',\": 2518, \"'site',\": 2519, \"'situation',\": 2520, \"'slap']\": 2521, \"'slip',\": 2522, \"'slutty',\": 2523, \"'snake',\": 2524, \"'snapchat',\": 2525, \"'soldier',\": 2526, \"'solo']\": 2527, \"'soo',\": 2528, \"'spook',\": 2529, \"'spook']\": 2530, \"'spray',\": 2531, \"'squad',\": 2532, \"'square']\": 2533, \"'starburst',\": 2534, \"'station',\": 2535, \"'steal']\": 2536, \"'step']\": 2537, \"'stoner',\": 2538, \"'str',\": 2539, \"'stretch',\": 2540, \"'strike',\": 2541, \"'sugar',\": 2542, \"'summer']\": 2543, \"'sure']\": 2544, \"'swim',\": 2545, \"'swing',\": 2546, \"'tax',\": 2547, \"'tbh']\": 2548, \"'term']\": 2549, \"'terrorist',\": 2550, \"'test']\": 2551, \"'tha',\": 2552, \"'thesis',\": 2553, \"'thigh',\": 2554, \"'thin',\": 2555, \"'thong',\": 2556, \"'thottie',\": 2557, \"'thou',\": 2558, \"'thousand',\": 2559, \"'tht',\": 2560, \"'thug']\": 2561, \"'timeline',\": 2562, \"'title',\": 2563, \"'tl']\": 2564, \"'toilet',\": 2565, \"'tone',\": 2566, \"'top']\": 2567, \"'totally',\": 2568, \"'trouble',\": 2569, \"'tryin',\": 2570, \"'twerk',\": 2571, \"'uber',\": 2572, \"'uncle',\": 2573, \"'understand']\": 2574, \"'urban',\": 2575, \"'video']\": 2576, \"'vodka',\": 2577, \"'vote']\": 2578, \"'wack']\": 2579, \"'waiting',\": 2580, \"'warn',\": 2581, \"'weak']\": 2582, \"'wee',\": 2583, \"'whisper',\": 2584, \"'whitey',\": 2585, \"'wig',\": 2586, \"'wigger',\": 2587, \"'wipe',\": 2588, \"'witness',\": 2589, \"'worm']\": 2590, \"'woulda',\": 2591, \"'wrist',\": 2592, \"'young']\": 2593, \"'zebra']\": 2594, \"'zone',\": 2595, \"'|',\": 2596, \"['actin',\": 2597, \"['beanie',\": 2598, \"['beautiful',\": 2599, \"['boat',\": 2600, \"['bow',\": 2601, \"['boyfriend',\": 2602, \"['claim',\": 2603, \"['class',\": 2604, \"['count',\": 2605, \"['couple',\": 2606, \"['cracker',\": 2607, \"['crow',\": 2608, \"['cunt']\": 2609, \"['daddy',\": 2610, \"['deserve',\": 2611, \"['different',\": 2612, \"['dnt',\": 2613, \"['dodge',\": 2614, \"['dumb']\": 2615, \"['ghetto']\": 2616, \"['green',\": 2617, \"['gun',\": 2618, \"['ho',\": 2619, \"['hold',\": 2620, \"['ignorant',\": 2621, \"['japanese',\": 2622, \"['jus',\": 2623, \"['loud',\": 2624, \"['majority',\": 2625, \"['minute',\": 2626, \"['miss']\": 2627, \"['note',\": 2628, \"['nun',\": 2629, \"['okay',\": 2630, \"['payback',\": 2631, \"['peep',\": 2632, \"['pissed',\": 2633, \"['porn',\": 2634, \"['project',\": 2635, \"['push',\": 2636, \"['quick',\": 2637, \"['r',\": 2638, \"['racist',\": 2639, \"['random',\": 2640, \"['round',\": 2641, \"['salute',\": 2642, \"['say']\": 2643, \"['second',\": 2644, \"['shade',\": 2645, \"['share',\": 2646, \"['slay',\": 2647, \"['slide',\": 2648, \"['spell',\": 2649, \"['state',\": 2650, \"['team',\": 2651, \"['tho',\": 2652, \"['typical',\": 2653, \"['update',\": 2654, \"['wash',\": 2655, \"['week',\": 2656, \"['whip',\": 2657, \"['wifey',\": 2658, \"'%']\": 2659, \"'@',\": 2660, \"'act']\": 2661, \"'activity',\": 2662, \"'ad']\": 2663, \"'agree']\": 2664, \"'air']\": 2665, \"'algebra',\": 2666, \"'alive']\": 2667, \"'amp;&amp',\": 2668, \"'anaconda',\": 2669, \"'anal',\": 2670, \"'anchor',\": 2671, \"'andor',\": 2672, \"'ankle',\": 2673, \"'annoy',\": 2674, \"'anyways',\": 2675, \"'apple']\": 2676, \"'appointment',\": 2677, \"'art',\": 2678, \"'asf',\": 2679, \"'assault',\": 2680, \"'association',\": 2681, \"'attempt',\": 2682, \"'attract',\": 2683, \"'attractive',\": 2684, \"'aunt',\": 2685, \"'avoid',\": 2686, \"'babe']\": 2687, \"'bacon',\": 2688, \"'bae',\": 2689, \"'banana',\": 2690, \"'bang',\": 2691, \"'barrybond',\": 2692, \"'bastard']\": 2693, \"'bathroom',\": 2694, \"'beach',\": 2695, \"'beast',\": 2696, \"'beatin',\": 2697, \"'beef']\": 2698, \"'beer']\": 2699, \"'begin',\": 2700, \"'believe']\": 2701, \"'belong']\": 2702, \"'bench',\": 2703, \"'best',\": 2704, \"'bet']\": 2705, \"'bffl',\": 2706, \"'bigotry',\": 2707, \"'birthday']\": 2708, \"'bit']\": 2709, \"'bitchin',\": 2710, \"'bitchy',\": 2711, \"'bleach',\": 2712, \"'bored',\": 2713, \"'bother',\": 2714, \"'bowl',\": 2715, \"'braid',\": 2716, \"'brake',\": 2717, \"'brave',\": 2718, \"'brick',\": 2719, \"'bridge',\": 2720, \"'bright',\": 2721, \"'btw',\": 2722, \"'buddy']\": 2723, \"'bully',\": 2724, \"'burger',\": 2725, \"'burn']\": 2726, \"'busted',\": 2727, \"'cake']\": 2728, \"'campus',\": 2729, \"'candy',\": 2730, \"'cargo',\": 2731, \"'cartel',\": 2732, \"'cashier',\": 2733, \"'catfish',\": 2734, \"'champagne',\": 2735, \"'charity',\": 2736, \"'cheer',\": 2737, \"'cheese']\": 2738, \"'cherry',\": 2739, \"'chief',\": 2740, \"'child']\": 2741, \"'childish']\": 2742, \"'chink']\": 2743, \"'chip']\": 2744, \"'chuck',\": 2745, \"'citizen',\": 2746, \"'clap',\": 2747, \"'climate',\": 2748, \"'climb',\": 2749, \"'closeup',\": 2750, \"'clutch',\": 2751, \"'coat',\": 2752, \"'code',\": 2753, \"'coke',\": 2754, \"'college']\": 2755, \"'comb',\": 2756, \"'comfortable',\": 2757, \"'condom',\": 2758, \"'convince',\": 2759, \"'cookie']\": 2760, \"'corny']\": 2761, \"'correct',\": 2762, \"'cowboy',\": 2763, \"'critical',\": 2764, \"'criticise',\": 2765, \"'cuddle',\": 2766, \"'cum']\": 2767, \"'curse',\": 2768, \"'curve']\": 2769, \"'dance']\": 2770, \"'deaf',\": 2771, \"'deal']\": 2772, \"'death']\": 2773, \"'declare',\": 2774, \"'depend',\": 2775, \"'describe',\": 2776, \"'difference']\": 2777, \"'different']\": 2778, \"'dildo',\": 2779, \"'dirty']\": 2780, \"'discuss',\": 2781, \"'disgusting',\": 2782, \"'dislike',\": 2783, \"'disrupt',\": 2784, \"'diving',\": 2785, \"'dodge',\": 2786, \"'dolla',\": 2787, \"'douche',\": 2788, \"'dragon']\": 2789, \"'driver',\": 2790, \"'driving',\": 2791, \"'dry']\": 2792, \"'edge',\": 2793, \"'eggplant',\": 2794, \"'election']\": 2795, \"'embarrassed',\": 2796, \"'emoji']\": 2797, \"'enemy',\": 2798, \"'escort',\": 2799, \"'esteem',\": 2800, \"'everytime',\": 2801, \"'evolve',\": 2802, \"'expect']\": 2803, \"'f',\": 2804, \"'faced',\": 2805, \"'faith',\": 2806, \"'fall']\": 2807, \"'fame',\": 2808, \"'fantasy',\": 2809, \"'fault',\": 2810, \"'feature',\": 2811, \"'fed',\": 2812, \"'fella',\": 2813, \"'female']\": 2814, \"'feminist',\": 2815, \"'fighter']\": 2816, \"'fire']\": 2817, \"'fiste',\": 2818, \"'fix']\": 2819, \"'flash',\": 2820, \"'float',\": 2821, \"'flood',\": 2822, \"'floor']\": 2823, \"'flow',\": 2824, \"'foe',\": 2825, \"'football']\": 2826, \"'forget']\": 2827, \"'forgot',\": 2828, \"'former',\": 2829, \"'forreal',\": 2830, \"'freaky',\": 2831, \"'freeze',\": 2832, \"'french',\": 2833, \"'ft',\": 2834, \"'fucken',\": 2835, \"'fucker',\": 2836, \"'fugly',\": 2837, \"'fw',\": 2838, \"'garbage']\": 2839, \"'gene',\": 2840, \"'general',\": 2841, \"'ghost',\": 2842, \"'gimme',\": 2843, \"'giraffe',\": 2844, \"'goal']\": 2845, \"'goat',\": 2846, \"'goldfish',\": 2847, \"'gook',\": 2848, \"'gook']\": 2849, \"'grind',\": 2850, \"'gross',\": 2851, \"'groupie',\": 2852, \"'gtfo',\": 2853, \"'guard',\": 2854, \"'hardcore',\": 2855, \"'hashtag',\": 2856, \"'hawk',\": 2857, \"'headed',\": 2858, \"'hearted',\": 2859, \"'helicopter',\": 2860, \"'hideous',\": 2861, \"'history']\": 2862, \"'holiday',\": 2863, \"'holiday']\": 2864, \"'holy',\": 2865, \"'homemade',\": 2866, \"'honor',\": 2867, \"'hood']\": 2868, \"'hoodie',\": 2869, \"'hoosier',\": 2870, \"'hoosiernation',\": 2871, \"'horn',\": 2872, \"'hospital',\": 2873, \"'hot']\": 2874, \"'housewife',\": 2875, \"'humble',\": 2876, \"'humor']\": 2877, \"'hypocrite']\": 2878, \"'identify',\": 2879, \"'ideology',\": 2880, \"'idk']\": 2881, \"'ig']\": 2882, \"'imagine',\": 2883, \"'immediately',\": 2884, \"'impression',\": 2885, \"'incredible',\": 2886, \"'infection',\": 2887, \"'influence']\": 2888, \"'injury',\": 2889, \"'inning',\": 2890, \"'insurance',\": 2891, \"'involve',\": 2892, \"'jail']\": 2893, \"'jean',\": 2894, \"'jet',\": 2895, \"'jewish',\": 2896, \"'jig',\": 2897, \"'joy',\": 2898, \"'keep']\": 2899, \"'ketchup',\": 2900, \"'killer',\": 2901, \"'kinda']\": 2902, \"'kitty',\": 2903, \"'knee']\": 2904, \"'knoww',\": 2905, \"'l',\": 2906, \"'land']\": 2907, \"'lap',\": 2908, \"'lately',\": 2909, \"'laundry',\": 2910, \"'lay']\": 2911, \"'leavin',\": 2912, \"'legacy',\": 2913, \"'lemon',\": 2914, \"'letter',\": 2915, \"'livin',\": 2916, \"'lmfao']\": 2917, \"'lock']\": 2918, \"'loss',\": 2919, \"'lot']\": 2920, \"'loud']\": 2921, \"'mango',\": 2922, \"'mash',\": 2923, \"'mental',\": 2924, \"'mid',\": 2925, \"'midnight']\": 2926, \"'military',\": 2927, \"'miserable',\": 2928, \"'mistake']\": 2929, \"'mock']\": 2930, \"'moral',\": 2931, \"'mullet',\": 2932, \"'multiple',\": 2933, \"'mustache',\": 2934, \"'nag',\": 2935, \"'national',\": 2936, \"'net',\": 2937, \"'network',\": 2938, \"'never']\": 2939, \"'nike',\": 2940, \"'noodle',\": 2941, \"'normal',\": 2942, \"'note',\": 2943, \"'notice',\": 2944, \"'nowadays']\": 2945, \"'nude']\": 2946, \"'nut']\": 2947, \"'nuts',\": 2948, \"'obsess',\": 2949, \"'officially',\": 2950, \"'often']\": 2951, \"'operation',\": 2952, \"'opposite',\": 2953, \"'original',\": 2954, \"'p']\": 2955, \"'pacer',\": 2956, \"'page']\": 2957, \"'pain',\": 2958, \"'parking',\": 2959, \"'pattern',\": 2960, \"'payback',\": 2961, \"'peanut',\": 2962, \"'peckerwood',\": 2963, \"'piercing',\": 2964, \"'pig']\": 2965, \"'pile',\": 2966, \"'pillow',\": 2967, \"'pilot',\": 2968, \"'pin',\": 2969, \"'pjnet',\": 2970, \"'plant',\": 2971, \"'please',\": 2972, \"'pocket']\": 2973, \"'policy',\": 2974, \"'pony',\": 2975, \"'positive',\": 2976, \"'pre',\": 2977, \"'president']\": 2978, \"'prison',\": 2979, \"'pro',\": 2980, \"'professor',\": 2981, \"'promoter',\": 2982, \"'proper',\": 2983, \"'protest',\": 2984, \"'proud']\": 2985, \"'pull']\": 2986, \"'pumpkin',\": 2987, \"'purse',\": 2988, \"'quad',\": 2989, \"'quote']\": 2990, \"'race']\": 2991, \"'raider',\": 2992, \"'rain']\": 2993, \"'ram',\": 2994, \"'randomly',\": 2995, \"'rapper']\": 2996, \"'rare',\": 2997, \"'ratchet']\": 2998, \"'recognize',\": 2999, \"'regard',\": 3000, \"'regardless',\": 3001, \"'reject',\": 3002, \"'religion',\": 3003, \"'republican',\": 3004, \"'reserve',\": 3005, \"'result',\": 3006, \"'reward',\": 3007, \"'rhyme',\": 3008, \"'rim',\": 3009, \"'roach',\": 3010, \"'rose',\": 3011, \"'round']\": 3012, \"'rt']\": 3013, \"'saint',\": 3014, \"'salute']\": 3015, \"'sandal',\": 3016, \"'scum',\": 3017, \"'service',\": 3018, \"'sever',\": 3019, \"'shadow',\": 3020, \"'shady',\": 3021, \"'shall',\": 3022, \"'shame']\": 3023, \"'shine']\": 3024, \"'sign']\": 3025, \"'single']\": 3026, \"'sink',\": 3027, \"'slip']\": 3028, \"'slippery',\": 3029, \"'smash']\": 3030, \"'smh',\": 3031, \"'smoke']\": 3032, \"'smooth',\": 3033, \"'snail',\": 3034, \"'solo',\": 3035, \"'something',\": 3036, \"'sound']\": 3037, \"'spaghetti',\": 3038, \"'spanish',\": 3039, \"'speech',\": 3040, \"'speed',\": 3041, \"'split',\": 3042, \"'spoiled',\": 3043, \"'sport']\": 3044, \"'spring',\": 3045, \"'square',\": 3046, \"'stab',\": 3047, \"'stadium',\": 3048, \"'stain',\": 3049, \"'stand']\": 3050, \"'state']\": 3051, \"'statement',\": 3052, \"'stick']\": 3053, \"'still']\": 3054, \"'story']\": 3055, \"'street']\": 3056, \"'stress']\": 3057, \"'strip',\": 3058, \"'stuck',\": 3059, \"'stud',\": 3060, \"'studio',\": 3061, \"'style',\": 3062, \"'sucker',\": 3063, \"'sudden',\": 3064, \"'surely',\": 3065, \"'surprised',\": 3066, \"'suspend',\": 3067, \"'sweep',\": 3068, \"'swerve',\": 3069, \"'tail',\": 3070, \"'tale',\": 3071, \"'taxi',\": 3072, \"'teaparty']\": 3073, \"'tend',\": 3074, \"'tf']\": 3075, \"'thewalkingdead']\": 3076, \"'third',\": 3077, \"'throat']\": 3078, \"'throb',\": 3079, \"'tire',\": 3080, \"'topic',\": 3081, \"'tour']\": 3082, \"'training',\": 3083, \"'transformer',\": 3084, \"'trap']\": 3085, \"'trial',\": 3086, \"'trick']\": 3087, \"'tune',\": 3088, \"'turnt',\": 3089, \"'twerke',\": 3090, \"'ungrateful',\": 3091, \"'upset',\": 3092, \"'value']\": 3093, \"'vibe',\": 3094, \"'vice',\": 3095, \"'victim',\": 3096, \"'volunteer',\": 3097, \"'votesos']\": 3098, \"'w']\": 3099, \"'waffle',\": 3100, \"'wage',\": 3101, \"'waist',\": 3102, \"'walkin',\": 3103, \"'wallet',\": 3104, \"'water']\": 3105, \"'weapon',\": 3106, \"'wear']\": 3107, \"'wearin',\": 3108, \"'weather']\": 3109, \"'website',\": 3110, \"'weird']\": 3111, \"'welfare',\": 3112, \"'wetback',\": 3113, \"'whack',\": 3114, \"'whip']\": 3115, \"'whoop',\": 3116, \"'wife']\": 3117, \"'wigga',\": 3118, \"'wishy',\": 3119, \"'wiz',\": 3120, \"'wo',\": 3121, \"'workout',\": 3122, \"'worthless',\": 3123, \"'x',\": 3124, \"'yank',\": 3125, \"'yezidi',\": 3126, \"'zip',\": 3127, \"['add',\": 3128, \"['allow',\": 3129, \"['amazing',\": 3130, \"['american',\": 3131, \"['amp',\": 3132, \"['answer',\": 3133, \"['apologize',\": 3134, \"['assume',\": 3135, \"['awkward',\": 3136, \"['bag',\": 3137, \"['bear',\": 3138, \"['bf',\": 3139, \"['bird']\": 3140, \"['bitter',\": 3141, \"['blow',\": 3142, \"['bore',\": 3143, \"['bully',\": 3144, \"['bust',\": 3145, \"['cake',\": 3146, \"['cheese',\": 3147, \"['close',\": 3148, \"['cocky',\": 3149, \"['cold',\": 3150, \"['complain',\": 3151, \"['confused',\": 3152, \"['country',\": 3153, \"['cousin',\": 3154, \"['cuff',\": 3155, \"['dam',\": 3156, \"['dare',\": 3157, \"['deal',\": 3158, \"['decide',\": 3159, \"['def',\": 3160, \"['difference',\": 3161, \"['draft',\": 3162, \"['draw',\": 3163, \"['dream',\": 3164, \"['everytime',\": 3165, \"['far',\": 3166, \"['feelin',\": 3167, \"['fool',\": 3168, \"['forgot',\": 3169, \"['fresh',\": 3170, \"['fry',\": 3171, \"['fun',\": 3172, \"['gossip',\": 3173, \"['hardly',\": 3174, \"['help',\": 3175, \"['human',\": 3176, \"['hungry',\": 3177, \"['international',\": 3178, \"['irrelevant',\": 3179, \"['karma',\": 3180, \"['kiss',\": 3181, \"['lay',\": 3182, \"['manager',\": 3183, \"['mans',\": 3184, \"['marry',\": 3185, \"['meet']\": 3186, \"['messy',\": 3187, \"['mexican',\": 3188, \"['morning',\": 3189, \"['nerve',\": 3190, \"['niggah',\": 3191, \"['nigguh',\": 3192, \"['nude',\": 3193, \"['officially',\": 3194, \"['ok',\": 3195, \"['peace',\": 3196, \"['pic',\": 3197, \"['promise',\": 3198, \"['punk',\": 3199, \"['record',\": 3200, \"['report',\": 3201, \"['rose',\": 3202, \"['search',\": 3203, \"['self',\": 3204, \"['selfie',\": 3205, \"['senior',\": 3206, \"['set',\": 3207, \"['shine',\": 3208, \"['short',\": 3209, \"['sign',\": 3210, \"['sing',\": 3211, \"['small',\": 3212, \"['smash',\": 3213, \"['smokin',\": 3214, \"['soon',\": 3215, \"['south',\": 3216, \"['spend',\": 3217, \"['spit',\": 3218, \"['street',\": 3219, \"['sum',\": 3220, \"['super',\": 3221, \"['supporter',\": 3222, \"['surprised',\": 3223, \"['texte',\": 3224, \"['thank']\": 3225, \"['thick',\": 3226, \"['timeline',\": 3227, \"['truth',\": 3228, \"['twat']\": 3229, \"['ultimate',\": 3230, \"['water',\": 3231, \"['weekend',\": 3232, \"['whenever',\": 3233, \"['wit',\": 3234, '\"\\'d\",': 3235, \"'abusive',\": 3236, \"'accent',\": 3237, \"'acceptable',\": 3238, \"'accident',\": 3239, \"'accidentally',\": 3240, \"'acknowledge',\": 3241, \"'actin']\": 3242, \"'active',\": 3243, \"'actress',\": 3244, \"'add']\": 3245, \"'addict',\": 3246, \"'addicted',\": 3247, \"'adult']\": 3248, \"'advance',\": 3249, \"'advantage',\": 3250, \"'afterwards']\": 3251, \"'alarm',\": 3252, \"'alike',\": 3253, \"'alike']\": 3254, \"'allegedly',\": 3255, \"'alpha',\": 3256, \"'always']\": 3257, \"'amateur',\": 3258, \"'anger',\": 3259, \"'ankle']\": 3260, \"'announce',\": 3261, \"'annoying']\": 3262, \"'anxiety',\": 3263, \"'anytime',\": 3264, \"'apologize',\": 3265, \"'appeal',\": 3266, \"'apply',\": 3267, \"'approve',\": 3268, \"'armor',\": 3269, \"'arrive',\": 3270, \"'aside',\": 3271, \"'attach',\": 3272, \"'attend',\": 3273, \"'available',\": 3274, \"'average']\": 3275, \"'awake',\": 3276, \"'awake']\": 3277, \"'aware',\": 3278, \"'awesome']\": 3279, \"'background']\": 3280, \"'bail',\": 3281, \"'bake',\": 3282, \"'balloon',\": 3283, \"'bark',\": 3284, \"'bartender',\": 3285, \"'basis',\": 3286, \"'basis']\": 3287, \"'basketball']\": 3288, \"'bastard',\": 3289, \"'bat',\": 3290, \"'bathrobe',\": 3291, \"'battle',\": 3292, \"'belly',\": 3293, \"'bestie',\": 3294, \"'betray',\": 3295, \"'bike',\": 3296, \"'bin',\": 3297, \"'bitchin']\": 3298, \"'bitty',\": 3299, \"'black']\": 3300, \"'blade',\": 3301, \"'blank',\": 3302, \"'blaxican']\": 3303, \"'bleed',\": 3304, \"'bless']\": 3305, \"'blessing',\": 3306, \"'blind']\": 3307, \"'blk',\": 3308, \"'body']\": 3309, \"'boil',\": 3310, \"'bong',\": 3311, \"'boo',\": 3312, \"'bore']\": 3313, \"'bossy',\": 3314, \"'bottle']\": 3315, \"'bouta',\": 3316, \"'bra']\": 3317, \"'broadcast',\": 3318, \"'broken',\": 3319, \"'bruise',\": 3320, \"'btown',\": 3321, \"'bubble']\": 3322, \"'buck',\": 3323, \"'bud']\": 3324, \"'building',\": 3325, \"'bum']\": 3326, \"'bun',\": 3327, \"'bus']\": 3328, \"'butthurt',\": 3329, \"'bytche',\": 3330, \"'calorie',\": 3331, \"'cancer',\": 3332, \"'cancer']\": 3333, \"'candy']\": 3334, \"'captain',\": 3335, \"'careful',\": 3336, \"'carpet',\": 3337, \"'cartoon',\": 3338, \"'casket']\": 3339, \"'cause']\": 3340, \"'ccot',\": 3341, \"'cease',\": 3342, \"'celibate',\": 3343, \"'censor',\": 3344, \"'center',\": 3345, \"'character']\": 3346, \"'chase']\": 3347, \"'chest',\": 3348, \"'chipotle',\": 3349, \"'chirp',\": 3350, \"'choice']\": 3351, \"'chop',\": 3352, \"'cinnamon',\": 3353, \"'circus',\": 3354, \"'claim']\": 3355, \"'classic']\": 3356, \"'clingy',\": 3357, \"'clit',\": 3358, \"'clothing',\": 3359, \"'cockroach',\": 3360, \"'cocky',\": 3361, \"'cod',\": 3362, \"'combo',\": 3363, \"'comeback',\": 3364, \"'comedy',\": 3365, \"'comin']\": 3366, \"'commie',\": 3367, \"'company',\": 3368, \"'compete']\": 3369, \"'computer',\": 3370, \"'concern',\": 3371, \"'concert',\": 3372, \"'condemn',\": 3373, \"'condition',\": 3374, \"'condo',\": 3375, \"'confirm',\": 3376, \"'confront',\": 3377, \"'confused']\": 3378, \"'consistent',\": 3379, \"'constant',\": 3380, \"'constitution',\": 3381, \"'contribute',\": 3382, \"'convo',\": 3383, \"'cord',\": 3384, \"'core']\": 3385, \"'cost']\": 3386, \"'cough',\": 3387, \"'courage',\": 3388, \"'course']\": 3389, \"'coverage',\": 3390, \"'coworker',\": 3391, \"'crack']\": 3392, \"'cramp',\": 3393, \"'crayon',\": 3394, \"'cream']\": 3395, \"'credential',\": 3396, \"'creep',\": 3397, \"'cripple']\": 3398, \"'crisis',\": 3399, \"'crown',\": 3400, \"'cruise',\": 3401, \"'crust',\": 3402, \"'crybaby',\": 3403, \"'crystal',\": 3404, \"'culture',\": 3405, \"'cup',\": 3406, \"'cup']\": 3407, \"'curb',\": 3408, \"'currently',\": 3409, \"'curved',\": 3410, \"'customer',\": 3411, \"'cuteness',\": 3412, \"'dairy',\": 3413, \"'danger',\": 3414, \"'dat']\": 3415, \"'daughter']\": 3416, \"'deep']\": 3417, \"'defense',\": 3418, \"'delete']\": 3419, \"'delicious',\": 3420, \"'deliver',\": 3421, \"'democratic',\": 3422, \"'deport',\": 3423, \"'dese',\": 3424, \"'designer',\": 3425, \"'desk',\": 3426, \"'dial',\": 3427, \"'diaper',\": 3428, \"'diet',\": 3429, \"'diet']\": 3430, \"'difference',\": 3431, \"'dingy',\": 3432, \"'direct',\": 3433, \"'disappear',\": 3434, \"'distribution',\": 3435, \"'doll',\": 3436, \"'drama',\": 3437, \"'draw']\": 3438, \"'drown']\": 3439, \"'drug']\": 3440, \"'dummy',\": 3441, \"'dumpster',\": 3442, \"'dusty',\": 3443, \"'earlier',\": 3444, \"'early']\": 3445, \"'eater',\": 3446, \"'ecstasy',\": 3447, \"'edit',\": 3448, \"'ego']\": 3449, \"'either',\": 3450, \"'elevator',\": 3451, \"'embrace',\": 3452, \"'employee',\": 3453, \"'empower',\": 3454, \"'empty',\": 3455, \"'enemy']\": 3456, \"'english',\": 3457, \"'enter',\": 3458, \"'erase',\": 3459, \"'error',\": 3460, \"'escape',\": 3461, \"'evolution',\": 3462, \"'execute',\": 3463, \"'exist']\": 3464, \"'explode',\": 3465, \"'f*ck',\": 3466, \"'fabulous',\": 3467, \"'fail']\": 3468, \"'fam']\": 3469, \"'famous']\": 3470, \"'farm',\": 3471, \"'fave',\": 3472, \"'favor',\": 3473, \"'fax',\": 3474, \"'fb',\": 3475, \"'fckn',\": 3476, \"'feelin',\": 3477, \"'fellow',\": 3478, \"'females',\": 3479, \"'file',\": 3480, \"'film']\": 3481, \"'filth',\": 3482, \"'fish']\": 3483, \"'flavor',\": 3484, \"'flawless',\": 3485, \"'fleek',\": 3486, \"'flesh',\": 3487, \"'flex',\": 3488, \"'flip']\": 3489, \"'foam',\": 3490, \"'foot']\": 3491, \"'forgive',\": 3492, \"'forreal']\": 3493, \"'forth',\": 3494, \"'foster',\": 3495, \"'frame',\": 3496, \"'freak']\": 3497, \"'fried',\": 3498, \"'friendly']\": 3499, \"'fro',\": 3500, \"'front']\": 3501, \"'fry']\": 3502, \"'fuc',\": 3503, \"'fucc',\": 3504, \"'fuckn',\": 3505, \"'fuk',\": 3506, \"'full']\": 3507, \"'gap',\": 3508, \"'gatorade',\": 3509, \"'gear',\": 3510, \"'genuinely',\": 3511, \"'ginger',\": 3512, \"'glass']\": 3513, \"'glory',\": 3514, \"'glue',\": 3515, \"'goofy',\": 3516, \"'gossip',\": 3517, \"'goth',\": 3518, \"'gpa',\": 3519, \"'graduation',\": 3520, \"'graduation']\": 3521, \"'gram']\": 3522, \"'grave',\": 3523, \"'greedy',\": 3524, \"'grind']\": 3525, \"'group']\": 3526, \"'gt;&gt',\": 3527, \"'gt;&gt']\": 3528, \"'guess']\": 3529, \"'guide',\": 3530, \"'guilt',\": 3531, \"'gurl',\": 3532, \"'hall',\": 3533, \"'hallway',\": 3534, \"'handful',\": 3535, \"'handicapped',\": 3536, \"'hang']\": 3537, \"'harass',\": 3538, \"'hater']\": 3539, \"'header',\": 3540, \"'health',\": 3541, \"'hearing',\": 3542, \"'heated',\": 3543, \"'heel',\": 3544, \"'hillbilly']\": 3545, \"'hippo',\": 3546, \"'hittin',\": 3547, \"'hog',\": 3548, \"'hold']\": 3549, \"'homegirl',\": 3550, \"'homo']\": 3551, \"'honey',\": 3552, \"'hooker',\": 3553, \"'hoosiers',\": 3554, \"'hope']\": 3555, \"'hopeful',\": 3556, \"'hormone',\": 3557, \"'horoscope',\": 3558, \"'horrible',\": 3559, \"'host',\": 3560, \"'hostess',\": 3561, \"'hotel',\": 3562, \"'hour']\": 3563, \"'housewife']\": 3564, \"'htgawm']\": 3565, \"'human']\": 3566, \"'husband',\": 3567, \"'icy',\": 3568, \"'idea']\": 3569, \"'idiot']\": 3570, \"'idk',\": 3571, \"'iffy',\": 3572, \"'ignore']\": 3573, \"'image',\": 3574, \"'imaginary',\": 3575, \"'immature',\": 3576, \"'imo']\": 3577, \"'incident',\": 3578, \"'inconsiderate',\": 3579, \"'industry',\": 3580, \"'instagram',\": 3581, \"'instead']\": 3582, \"'intense',\": 3583, \"'interested',\": 3584, \"'interesting',\": 3585, \"'international',\": 3586, \"'interrupt',\": 3587, \"'invisible',\": 3588, \"'iont',\": 3589, \"'irish',\": 3590, \"'itty',\": 3591, \"'jackass',\": 3592, \"'jar',\": 3593, \"'jerk',\": 3594, \"'jihadi']\": 3595, \"'judge']\": 3596, \"'juicy',\": 3597, \"'jumbotron',\": 3598, \"'jumper',\": 3599, \"'jury',\": 3600, \"'kidnap',\": 3601, \"'kik',\": 3602, \"'king']\": 3603, \"'kinky',\": 3604, \"'kitten',\": 3605, \"'knee',\": 3606, \"'knife',\": 3607, \"'knock']\": 3608, \"'l']\": 3609, \"'lab',\": 3610, \"'label',\": 3611, \"'lack',\": 3612, \"'lame']\": 3613, \"'latino',\": 3614, \"'law']\": 3615, \"'lawyer',\": 3616, \"'layer',\": 3617, \"'lb',\": 3618, \"'leader',\": 3619, \"'leather',\": 3620, \"'leprechaun',\": 3621, \"'liar',\": 3622, \"'library',\": 3623, \"'license',\": 3624, \"'linebacker',\": 3625, \"'lingo',\": 3626, \"'link']\": 3627, \"'list']\": 3628, \"'literally']\": 3629, \"'little']\": 3630, \"'living',\": 3631, \"'lmao']\": 3632, \"'lmfao',\": 3633, \"'location',\": 3634, \"'logic']\": 3635, \"'logo',\": 3636, \"'loose']\": 3637, \"'loss']\": 3638, \"'lottery',\": 3639, \"'lottery']\": 3640, \"'lovely',\": 3641, \"'lover',\": 3642, \"'low']\": 3643, \"'lowkey']\": 3644, \"'lowlife',\": 3645, \"'luck']\": 3646, \"'mail',\": 3647, \"'mane']\": 3648, \"'manner',\": 3649, \"'market',\": 3650, \"'married',\": 3651, \"'marshmallow',\": 3652, \"'match']\": 3653, \"'mate',\": 3654, \"'math']\": 3655, \"'maybe']\": 3656, \"'meal',\": 3657, \"'meaning',\": 3658, \"'meanwhile',\": 3659, \"'meat']\": 3660, \"'medium']\": 3661, \"'mentality',\": 3662, \"'mermaid',\": 3663, \"'metal',\": 3664, \"'mi',\": 3665, \"'mic',\": 3666, \"'mild',\": 3667, \"'minor',\": 3668, \"'miracle',\": 3669, \"'mob',\": 3670, \"'molester',\": 3671, \"'mom']\": 3672, \"'morningjoe']\": 3673, \"'mostly',\": 3674, \"'motherfuckin',\": 3675, \"'mouse',\": 3676, \"'mufucka',\": 3677, \"'muslim',\": 3678, \"'mutt',\": 3679, \"'naked']\": 3680, \"'nappy',\": 3681, \"'native',\": 3682, \"'naturally',\": 3683, \"'nature',\": 3684, \"'nearly',\": 3685, \"'nephew',\": 3686, \"'nerd',\": 3687, \"'nerve']\": 3688, \"'nervous',\": 3689, \"'new']\": 3690, \"'niece',\": 3691, \"'nigerian',\": 3692, \"'nipple']\": 3693, \"'noise',\": 3694, \"'non',\": 3695, \"'nosey',\": 3696, \"'notch',\": 3697, \"'nothing']\": 3698, \"'nugget',\": 3699, \"'object',\": 3700, \"'odd',\": 3701, \"'offend']\": 3702, \"'offense']\": 3703, \"'online',\": 3704, \"'organic',\": 3705, \"'otha',\": 3706, \"'outfit']\": 3707, \"'overly',\": 3708, \"'partake',\": 3709, \"'participate',\": 3710, \"'partner',\": 3711, \"'pathetic']\": 3712, \"'patron',\": 3713, \"'penny',\": 3714, \"'perfect']\": 3715, \"'permission',\": 3716, \"'person']\": 3717, \"'petty']\": 3718, \"'phase']\": 3719, \"'pipe',\": 3720, \"'pirate',\": 3721, \"'pit']\": 3722, \"'pitcher',\": 3723, \"'plain',\": 3724, \"'plank',\": 3725, \"'playoff']\": 3726, \"'po',\": 3727, \"'poem',\": 3728, \"'pokemon',\": 3729, \"'poo',\": 3730, \"'pop']\": 3731, \"'popcorn',\": 3732, \"'pork',\": 3733, \"'porn']\": 3734, \"'possibly',\": 3735, \"'post']\": 3736, \"'pot']\": 3737, \"'pour',\": 3738, \"'praise',\": 3739, \"'prayer',\": 3740, \"'preach']\": 3741, \"'precious',\": 3742, \"'present',\": 3743, \"'prevent',\": 3744, \"'prey',\": 3745, \"'primary',\": 3746, \"'princess',\": 3747, \"'privilege',\": 3748, \"'product',\": 3749, \"'progress',\": 3750, \"'progressive',\": 3751, \"'property',\": 3752, \"'propose',\": 3753, \"'prove']\": 3754, \"'publicly',\": 3755, \"'puff',\": 3756, \"'puppy',\": 3757, \"'purse']\": 3758, \"'quality',\": 3759, \"'quarter',\": 3760, \"'radical',\": 3761, \"'rage',\": 3762, \"'raise']\": 3763, \"'rally',\": 3764, \"'range',\": 3765, \"'rap']\": 3766, \"'rarely',\": 3767, \"'rat',\": 3768, \"'raven',\": 3769, \"'raw']\": 3770, \"'rb',\": 3771, \"'reaction',\": 3772, \"'receive',\": 3773, \"'reckless']\": 3774, \"'redskin',\": 3775, \"'reflect',\": 3776, \"'register',\": 3777, \"'regulation',\": 3778, \"'rejectedpeanutsspecial']\": 3779, \"'relationship']\": 3780, \"'relax',\": 3781, \"'relax']\": 3782, \"'relevant',\": 3783, \"'remove',\": 3784, \"'replace',\": 3785, \"'report']\": 3786, \"'represent']\": 3787, \"'requirement',\": 3788, \"'rescue',\": 3789, \"'resolution',\": 3790, \"'resort',\": 3791, \"'responsibility',\": 3792, \"'rest']\": 3793, \"'retweet']\": 3794, \"'reunion',\": 3795, \"'review',\": 3796, \"'rich']\": 3797, \"'rite',\": 3798, \"'rocket',\": 3799, \"'role']\": 3800, \"'roof',\": 3801, \"'rookie',\": 3802, \"'rube',\": 3803, \"'rude']\": 3804, \"'russian',\": 3805, \"'safe']\": 3806, \"'salt',\": 3807, \"'satisfy',\": 3808, \"'savage']\": 3809, \"'save']\": 3810, \"'sayin',\": 3811, \"'scale',\": 3812, \"'scalp',\": 3813, \"'scare']\": 3814, \"'scared']\": 3815, \"'scary']\": 3816, \"'scheme',\": 3817, \"'science',\": 3818, \"'scrawny',\": 3819, \"'scroll',\": 3820, \"'second']\": 3821, \"'seed',\": 3822, \"'seek',\": 3823, \"'separate',\": 3824, \"'series']\": 3825, \"'seriously']\": 3826, \"'set']\": 3827, \"'severely']\": 3828, \"'sharpen',\": 3829, \"'sheet',\": 3830, \"'shift',\": 3831, \"'shiner',\": 3832, \"'shooting',\": 3833, \"'short']\": 3834, \"'shorty']\": 3835, \"'shot']\": 3836, \"'shoutout',\": 3837, \"'shovel',\": 3838, \"'shy']\": 3839, \"'shyt',\": 3840, \"'sight',\": 3841, \"'sin']\": 3842, \"'singer',\": 3843, \"'sit']\": 3844, \"'situation']\": 3845, \"'skirt',\": 3846, \"'skull',\": 3847, \"'slander',\": 3848, \"'slappin',\": 3849, \"'slaughter',\": 3850, \"'slavery',\": 3851, \"'slavery']\": 3852, \"'slice',\": 3853, \"'slowly',\": 3854, \"'smart']\": 3855, \"'smile']\": 3856, \"'smokin',\": 3857, \"'snip',\": 3858, \"'sob',\": 3859, \"'sober',\": 3860, \"'soda',\": 3861, \"'somewhere']\": 3862, \"'sooooo',\": 3863, \"'soooooo',\": 3864, \"'sore',\": 3865, \"'sorrynotsorry']\": 3866, \"'sort',\": 3867, \"'soulless',\": 3868, \"'soup',\": 3869, \"'sour',\": 3870, \"'south',\": 3871, \"'space',\": 3872, \"'spam',\": 3873, \"'spanish']\": 3874, \"'speak']\": 3875, \"'speaker',\": 3876, \"'special']\": 3877, \"'specie',\": 3878, \"'spelling',\": 3879, \"'spice',\": 3880, \"'spicy',\": 3881, \"'spirit']\": 3882, \"'spiritual',\": 3883, \"'splash',\": 3884, \"'spoil',\": 3885, \"'spoil']\": 3886, \"'stack',\": 3887, \"'stage']\": 3888, \"'stair',\": 3889, \"'stair']\": 3890, \"'stamp',\": 3891, \"'starburst']\": 3892, \"'stare']\": 3893, \"'starter',\": 3894, \"'stat',\": 3895, \"'status']\": 3896, \"'stiff',\": 3897, \"'stinky',\": 3898, \"'stock',\": 3899, \"'stomp',\": 3900, \"'stone']\": 3901, \"'stoned']\": 3902, \"'stoop',\": 3903, \"'straight']\": 3904, \"'strait',\": 3905, \"'stranger',\": 3906, \"'strike']\": 3907, \"'stroke',\": 3908, \"'style']\": 3909, \"'stylish',\": 3910, \"'suburban',\": 3911, \"'success',\": 3912, \"'successful',\": 3913, \"'sue',\": 3914, \"'suggest',\": 3915, \"'sumn',\": 3916, \"'sumthin',\": 3917, \"'sun',\": 3918, \"'sunset',\": 3919, \"'superhero',\": 3920, \"'supply',\": 3921, \"'supporter',\": 3922, \"'surgery',\": 3923, \"'surprised']\": 3924, \"'surround',\": 3925, \"'survive',\": 3926, \"'suspect',\": 3927, \"'swag']\": 3928, \"'swallow',\": 3929, \"'sweater',\": 3930, \"'switch']\": 3931, \"'system']\": 3932, \"'tacky',\": 3933, \"'tag']\": 3934, \"'talent',\": 3935, \"'tan',\": 3936, \"'taxis',\": 3937, \"'tech',\": 3938, \"'tellin',\": 3939, \"'terrible',\": 3940, \"'tf',\": 3941, \"'theory',\": 3942, \"'therefore',\": 3943, \"'thirsty']\": 3944, \"'thunder',\": 3945, \"'tide',\": 3946, \"'tit']\": 3947, \"'titty']\": 3948, \"'tool',\": 3949, \"'tooth']\": 3950, \"'toss',\": 3951, \"'translate',\": 3952, \"'tread',\": 3953, \"'treasure']\": 3954, \"'tree']\": 3955, \"'trigger',\": 3956, \"'trim',\": 3957, \"'triple',\": 3958, \"'trophy',\": 3959, \"'tru',\": 3960, \"'trunk',\": 3961, \"'tshirt',\": 3962, \"'tuck',\": 3963, \"'tumblr',\": 3964, \"'turd',\": 3965, \"'turtle']\": 3966, \"'tv']\": 3967, \"'type']\": 3968, \"'uncle']\": 3969, \"'undercover',\": 3970, \"'uniform']\": 3971, \"'unit',\": 3972, \"'unknown',\": 3973, \"'upload',\": 3974, \"'upset']\": 3975, \"'urge',\": 3976, \"'v',\": 3977, \"'vacation',\": 3978, \"'valentine',\": 3979, \"'vegetable',\": 3980, \"'vile',\": 3981, \"'vinyl',\": 3982, \"'violet',\": 3983, \"'vision',\": 3984, \"'vocabulary',\": 3985, \"'wall',\": 3986, \"'warning',\": 3987, \"'wasp',\": 3988, \"'wasp']\": 3989, \"'watchlikeake',\": 3990, \"'watermelon',\": 3991, \"'webad',\": 3992, \"'wedding',\": 3993, \"'whatsoever',\": 3994, \"'wheel',\": 3995, \"'whigger',\": 3996, \"'whine']\": 3997, \"'wigger']\": 3998, \"'window']\": 3999, \"'winner',\": 4000, \"'wire',\": 4001, \"'wise',\": 4002, \"'wish']\": 4003, \"'witcha',\": 4004, \"'wood',\": 4005, \"'wop']\": 4006, \"'worry']\": 4007, \"'worship',\": 4008, \"'yard']\": 4009, \"'yoga',\": 4010, \"'yokel',\": 4011, \"'zoo',\": 4012, '[\"\\'d\",': 4013, \"['accord',\": 4014, \"['afraid',\": 4015, \"['albino',\": 4016, \"['anaconda',\": 4017, \"['animal',\": 4018, \"['approach',\": 4019, \"['atleast',\": 4020, \"['bald',\": 4021, \"['band',\": 4022, \"['bank',\": 4023, \"['bare',\": 4024, \"['base',\": 4025, \"['become',\": 4026, \"['bend',\": 4027, \"['bless',\": 4028, \"['blue',\": 4029, \"['bomb',\": 4030, \"['bored',\": 4031, \"['brag',\": 4032, \"['bright',\": 4033, \"['british',\": 4034, \"['build',\": 4035, \"['case',\": 4036, \"['charge',\": 4037, \"['cheer',\": 4038, \"['chocolate',\": 4039, \"['chug',\": 4040, \"['chunky',\": 4041, \"['city',\": 4042, \"['coach',\": 4043, \"['cock',\": 4044, \"['comeback',\": 4045, \"['congratulation',\": 4046, \"['control',\": 4047, \"['coon',\": 4048, \"['coon']\": 4049, \"['cop',\": 4050, \"['creator',\": 4051, \"['curve',\": 4052, \"['customer',\": 4053, \"['dance',\": 4054, \"['dark',\": 4055, \"['dat',\": 4056, \"['daughter',\": 4057, \"['defense',\": 4058, \"['defiantly',\": 4059, \"['definition',\": 4060, \"['deliver',\": 4061, \"['desi',\": 4062, \"['discuss',\": 4063, \"['doctor',\": 4064, \"['dope',\": 4065, \"['doubt',\": 4066, \"['download',\": 4067, \"['duck',\": 4068, \"['eagle',\": 4069, \"['egg',\": 4070, \"['end',\": 4071, \"['enough',\": 4072, \"['especially',\": 4073, \"['everyday',\": 4074, \"['excited',\": 4075, \"['excuse',\": 4076, \"['fail',\": 4077, \"['fairy',\": 4078, \"['fast',\": 4079, \"['feeling',\": 4080, \"['finish',\": 4081, \"['fix',\": 4082, \"['flex',\": 4083, \"['flip',\": 4084, \"['flirt',\": 4085, \"['folk',\": 4086, \"['freaky',\": 4087, \"['free']\": 4088, \"['fruit',\": 4089, \"['fucken',\": 4090, \"['g',\": 4091, \"['gettin',\": 4092, \"['giant',\": 4093, \"['goal',\": 4094, \"['gold',\": 4095, \"['grab',\": 4096, \"['grandma',\": 4097, \"['greet',\": 4098, \"['gunna',\": 4099, \"['hide',\": 4100, \"['hillbilly',\": 4101, \"['hoser']\": 4102, \"['hour',\": 4103, \"['house',\": 4104, \"['hurry',\": 4105, \"['ice',\": 4106, \"['idiot',\": 4107, \"['ignore',\": 4108, \"['instead',\": 4109, \"['jail',\": 4110, \"['jet',\": 4111, \"['job',\": 4112, \"['join',\": 4113, \"['juicy',\": 4114, \"['jump',\": 4115, \"['know']\": 4116, \"['leg',\": 4117, \"['level',\": 4118, \"['lick',\": 4119, \"['lock',\": 4120, \"['loose',\": 4121, \"['lotta',\": 4122, \"['love']\": 4123, \"['mall',\": 4124, \"['mama',\": 4125, \"['man']\": 4126, \"['message',\": 4127, \"['mine',\": 4128, \"['moment',\": 4129, \"['nephew',\": 4130, \"['nig']\": 4131, \"['nigga']\": 4132, \"['niggas',\": 4133, \"['office',\": 4134, \"['oreo',\": 4135, \"['outta',\": 4136, \"['pet',\": 4137, \"['pillow',\": 4138, \"['pimp',\": 4139, \"['pink',\": 4140, \"['plan',\": 4141, \"['planet',\": 4142, \"['police',\": 4143, \"['pound',\": 4144, \"['power',\": 4145, \"['press',\": 4146, \"['price',\": 4147, \"['proud',\": 4148, \"['raise',\": 4149, \"['ram',\": 4150, \"['reaction',\": 4151, \"['red',\": 4152, \"['regular',\": 4153, \"['release',\": 4154, \"['remind',\": 4155, \"['retard']\": 4156, \"['rock',\": 4157, \"['roll',\": 4158, \"['room',\": 4159, \"['row',\": 4160, \"['rt',\": 4161, \"['rub',\": 4162, \"['rule',\": 4163, \"['salty',\": 4164, \"['sarcastic',\": 4165, \"['scale',\": 4166, \"['scared',\": 4167, \"['shave',\": 4168, \"['shit']\": 4169, \"['shitty',\": 4170, \"['sideline',\": 4171, \"['smack',\": 4172, \"['snap',\": 4173, \"['sneak',\": 4174, \"['soccer',\": 4175, \"['somewhere',\": 4176, \"['special',\": 4177, \"['spook',\": 4178, \"['spray',\": 4179, \"['star',\": 4180, \"['stfu',\": 4181, \"['study',\": 4182, \"['tag',\": 4183, \"['tall',\": 4184, \"['term',\": 4185, \"['tiny',\": 4186, \"['tl',\": 4187, \"['totally',\": 4188, \"['tough',\": 4189, \"['train',\": 4190, \"['trap',\": 4191, \"['trend',\": 4192, \"['triple',\": 4193, \"['tryin',\": 4194, \"['twat',\": 4195, \"['twerking',\": 4196, \"['twice',\": 4197, \"['ugly']\": 4198, \"['unfollow',\": 4199, \"['ungrateful',\": 4200, \"['unloyal',\": 4201, \"['upload',\": 4202, \"['vote',\": 4203, \"['want']\": 4204, \"['warm',\": 4205, \"['weak',\": 4206, \"['well']\": 4207, \"['whore',\": 4208, \"['wigga',\": 4209, \"['wise',\": 4210, \"['worried',\": 4211, \"['woulda',\": 4212, \"['yell',\": 4213, \"['zebra',\": 4214, \"['zone',\": 4215})\n"
     ]
    }
   ],
   "source": [
    "#Preparing input and output sequences\n",
    "#initialize glove embeddings\n",
    "TWEETS.build_vocab(train_data,min_freq=3,vectors = \"glove.6B.100d\")  \n",
    "LABEL.build_vocab(train_data)\n",
    "\n",
    "#No. of unique tokens in text\n",
    "print(\"Size of TWEETS vocabulary:\",len(TWEETS.vocab))\n",
    "\n",
    "#No. of unique tokens in label\n",
    "print(\"Size of LABEL vocabulary:\",len(LABEL.vocab))\n",
    "\n",
    "#Commonly used words\n",
    "print(TWEETS.vocab.freqs.most_common(10))  \n",
    "\n",
    "#Word dictionary\n",
    "print(TWEETS.vocab.stoi)   "
   ]
  },
  {
   "cell_type": "code",
   "execution_count": null,
   "metadata": {
    "colab": {
     "base_uri": "https://localhost:8080/",
     "height": 34
    },
    "colab_type": "code",
    "id": "O3TkVV80DxrZ",
    "outputId": "5b55344e-33b3-489b-b628-9482e5bb2968"
   },
   "outputs": [
    {
     "data": {
      "text/plain": [
       "torch.Size([100])"
      ]
     },
     "execution_count": 4,
     "metadata": {
      "tags": []
     },
     "output_type": "execute_result"
    }
   ],
   "source": [
    "TWEETS.vocab.vectors[0].shape"
   ]
  },
  {
   "cell_type": "code",
   "execution_count": null,
   "metadata": {
    "colab": {},
    "colab_type": "code",
    "id": "Tb3JHqXFaFxS"
   },
   "outputs": [],
   "source": [
    "#check whether cuda is available\n",
    "device = torch.device('cuda' if torch.cuda.is_available() else 'cpu')  \n",
    "\n",
    "#set batch size\n",
    "BATCH_SIZE = 64\n",
    "\n",
    "#Load an iterator\n",
    "train_iterator, valid_iterator = data.BucketIterator.splits(\n",
    "    (train_data, valid_data), \n",
    "    batch_size = BATCH_SIZE,\n",
    "    sort_key = lambda x: len(x.tweet),\n",
    "    sort_within_batch=True,\n",
    "    device = device)"
   ]
  },
  {
   "cell_type": "markdown",
   "metadata": {
    "colab_type": "text",
    "id": "q3ROVgLZKxJB"
   },
   "source": [
    "# 4. Constructing a LSTM Model\n",
    "\n",
    "Basic Steps of LSTM:\n",
    "\n",
    "\n",
    "\n",
    "1. Create LSTM model with\n",
    "2. Instantiate Model\n",
    "3. Instantiate Loss Function\n",
    "4. Instantiate Optimizer\n",
    "5. Training the Model\n",
    "\n",
    "\n",
    "\n"
   ]
  },
  {
   "cell_type": "markdown",
   "metadata": {
    "colab_type": "text",
    "id": "SL_yQEQQi-3f"
   },
   "source": [
    "##4.1 Create LSTM model "
   ]
  },
  {
   "cell_type": "code",
   "execution_count": null,
   "metadata": {
    "colab": {},
    "colab_type": "code",
    "id": "1q9maK6kIFdC"
   },
   "outputs": [],
   "source": [
    "#define the model\n",
    "import torch.nn as nn\n",
    "\n",
    "\n",
    "class LSTMclassifier(nn.Module):\n",
    "  def __init__(self, vocab_size, embedding_dim, hidden_dim, output_dim, \n",
    "                n_layers, bidirectional, dropout):\n",
    "    super().__init__()\n",
    "    #embedding layer\n",
    "    self.embedding = nn.Embedding(vocab_size, embedding_dim, sparse=False)\n",
    "\n",
    "    #lstm layer\n",
    "    self.hidden_dim = hidden_dim\n",
    "    self.lstm = nn.LSTM(embedding_dim, \n",
    "                         hidden_dim, \n",
    "                         num_layers=n_layers,\n",
    "                         bidirectional=bidirectional,\n",
    "                         dropout=dropout,\n",
    "                         batch_first=True)\n",
    "    #dense layer\n",
    "    self.fc = nn.Sequential(\n",
    "        nn.Linear(hidden_dim * 2, hidden_dim),\n",
    "        nn.ReLU(True),\n",
    "        nn.Linear(hidden_dim, output_dim)\n",
    "    )\n",
    "    #activation function\n",
    "    # self.act = nn.Sigmoid()\n",
    "\n",
    "  def forward(self, text, text_lengths):\n",
    "    #text = [batch size,sent_length]\n",
    "    embedded = self.embedding(text)\n",
    "    #embedded = [batch size, sent_len, emb dim]\n",
    "      \n",
    "    #packed sequence\n",
    "    \n",
    "    h_0 = torch.zeros(4, embedded.size(0), self.hidden_dim, dtype=torch.float32, device=embedded.device)\n",
    "    c_0 = torch.zeros(4, embedded.size(0), self.hidden_dim, dtype=torch.float32, device=embedded.device)\n",
    "    \n",
    "    \n",
    "    packed_embedded = nn.utils.rnn.pack_padded_sequence(embedded, text_lengths,batch_first=True)\n",
    "    packed_output, (hidden, cell) = self.lstm(packed_embedded, (h_0, c_0))\n",
    "    packed_output, packed_lens = torch.nn.utils.rnn.pad_packed_sequence(packed_output, batch_first=True)\n",
    "    lstm_output, _ = torch.max(packed_output,dim=1)\n",
    "    # print(packed_output.shape)\n",
    "    # hidden = [batch size, num layers * num directions,hid dim]\n",
    "    # cell = [batch size, num layers * num directions,hid dim]\n",
    "        \n",
    "    #concat the final forward and backward hidden state\n",
    "    # print(packed_output.data.shape)\n",
    "    # hidden = torch.cat((hidden[-2,:,:], hidden[-1,:,:]), dim = 1)\n",
    "    # print(hidden.shape)\n",
    "    # hidden = [batch size, hid dim * num directions]\n",
    "    dense_outputs=self.fc(lstm_output)\n",
    "    return dense_outputs\n"
   ]
  },
  {
   "cell_type": "code",
   "execution_count": null,
   "metadata": {
    "colab": {},
    "colab_type": "code",
    "id": "mCSeISxKfU0f"
   },
   "outputs": [],
   "source": [
    "#define hyperparameters\n",
    "size_of_vocab = len(TWEETS.vocab)\n",
    "embedding_dim = 100\n",
    "num_hidden_nodes = 256\n",
    "num_output_nodes = 3\n",
    "num_layers = 2\n",
    "bidirection = True\n",
    "dropout = 0.5\n",
    "\n",
    "#instantiate the model\n",
    "model = LSTMclassifier(size_of_vocab, embedding_dim, num_hidden_nodes,num_output_nodes, num_layers, \n",
    "                   bidirectional = True, dropout = dropout)"
   ]
  },
  {
   "cell_type": "markdown",
   "metadata": {
    "colab_type": "text",
    "id": "RvFdx9GlC76k"
   },
   "source": [
    "## 4.2 Instantiate Model"
   ]
  },
  {
   "cell_type": "code",
   "execution_count": null,
   "metadata": {
    "colab": {
     "base_uri": "https://localhost:8080/",
     "height": 204
    },
    "colab_type": "code",
    "id": "yZgmwIimfgHW",
    "outputId": "96e7bad5-2e96-4379-9771-fe5713dd26d3"
   },
   "outputs": [
    {
     "name": "stdout",
     "output_type": "stream",
     "text": [
      "LSTMclassifier(\n",
      "  (embedding): Embedding(4216, 100)\n",
      "  (lstm): LSTM(100, 256, num_layers=2, batch_first=True, dropout=0.5, bidirectional=True)\n",
      "  (fc): Sequential(\n",
      "    (0): Linear(in_features=512, out_features=256, bias=True)\n",
      "    (1): ReLU(inplace=True)\n",
      "    (2): Linear(in_features=256, out_features=3, bias=True)\n",
      "  )\n",
      ")\n",
      "The model has 2,863,843 trainable parameters\n",
      "torch.Size([4216, 100])\n"
     ]
    }
   ],
   "source": [
    "#architecture\n",
    "print(model)\n",
    "\n",
    "#No. of trianable parameters\n",
    "def count_parameters(model):\n",
    "    return sum(p.numel() for p in model.parameters() if p.requires_grad)\n",
    "    \n",
    "print(f'The model has {count_parameters(model):,} trainable parameters')\n",
    "\n",
    "#Initialize the pretrained embedding\n",
    "pretrained_embeddings = TWEETS.vocab.vectors\n",
    "model.embedding.weight.data.copy_(pretrained_embeddings)\n",
    "\n",
    "print(pretrained_embeddings.shape)"
   ]
  },
  {
   "cell_type": "markdown",
   "metadata": {
    "colab_type": "text",
    "id": "CtBtzHqpiebO"
   },
   "source": [
    "##4.3/4 Initiate the loss function and the optimizer of the model"
   ]
  },
  {
   "cell_type": "code",
   "execution_count": null,
   "metadata": {
    "colab": {},
    "colab_type": "code",
    "id": "9_YZF8SiibvN"
   },
   "outputs": [],
   "source": [
    "import torch.optim as optim\n",
    "\n",
    "#define optimizer and loss\n",
    "optimizer = torch.optim.Adam(model.parameters(), lr=0.01, weight_decay=1e-4)\n",
    "# criterion = BCELoss()\n",
    "# scheduler = torch.optim.lr_scheduler.StepLR(optimizer, 5, gamma=0.1)\n",
    "# optimizer = optim.SGD(model.parameters(), lr=0.01, momentum=0.9, weight_decay=1e-4)\n",
    "criterion = nn.CrossEntropyLoss()\n",
    "\n",
    "#define metric\n",
    "def binary_accuracy(preds, y):\n",
    "    #round predictions to the closest integer\n",
    "    rounded_preds = torch.argmax(preds,dim=1)\n",
    "    \n",
    "    correct = (rounded_preds == y).float().mean()\n",
    "    # acc = correct.sum()\n",
    "    return correct\n",
    "    \n",
    "#push to cuda if available\n",
    "model = model.to(device)\n",
    "criterion = criterion.to(device)"
   ]
  },
  {
   "cell_type": "markdown",
   "metadata": {
    "colab_type": "text",
    "id": "DRDq-UjkkHQx"
   },
   "source": [
    "##4.5 Define functions to train the model\n"
   ]
  },
  {
   "cell_type": "code",
   "execution_count": null,
   "metadata": {
    "colab": {},
    "colab_type": "code",
    "id": "koW0qRIzkNzS"
   },
   "outputs": [],
   "source": [
    "def train(model, iterator, optimizer, criterion):\n",
    "    \n",
    "    #initialize every epoch \n",
    "    epoch_loss = 0\n",
    "    epoch_acc = 0\n",
    "    \n",
    "    #set the model in training phase\n",
    "    model.train()  \n",
    "    \n",
    "    for batch in iterator:\n",
    "        \n",
    "        #resets the gradients after every batch\n",
    "        optimizer.zero_grad()   \n",
    "        \n",
    "        #retrieve text and no. of words\n",
    "        text, text_lengths = batch.tweet   \n",
    "        targets = batch.category.long()\n",
    "        #convert to 1D tensor\n",
    "        predictions = model(text, text_lengths).squeeze()  \n",
    "        #compute the loss\n",
    "        loss = criterion(predictions,targets)        \n",
    "        \n",
    "        #compute the binary accuracy\n",
    "        acc = binary_accuracy(predictions, targets)   \n",
    "        \n",
    "        #backpropage the loss and compute the gradients\n",
    "        loss.backward()       \n",
    "        \n",
    "        #update the weights\n",
    "        optimizer.step()      \n",
    "        \n",
    "        #loss and accuracy\n",
    "        epoch_loss += loss.item()  \n",
    "        epoch_acc += acc.item()    \n",
    "        \n",
    "    return epoch_loss / len(iterator), epoch_acc / len(iterator)"
   ]
  },
  {
   "cell_type": "code",
   "execution_count": null,
   "metadata": {
    "colab": {},
    "colab_type": "code",
    "id": "mC5OnfKC757R"
   },
   "outputs": [],
   "source": [
    "def evaluate(model, iterator, criterion):\n",
    "    \n",
    "    #initialize every epoch\n",
    "    epoch_loss = 0\n",
    "    epoch_acc = 0\n",
    "\n",
    "    #deactivating dropout layers\n",
    "    model.eval()\n",
    "    \n",
    "    #deactivates autograd\n",
    "    with torch.no_grad():\n",
    "    \n",
    "        for batch in iterator:\n",
    "        \n",
    "            #retrieve text and no. of words\n",
    "            text, text_lengths = batch.tweet\n",
    "            #convert to 1d tensor\n",
    "            targets = batch.category.long()\n",
    "            predictions = model(text, text_lengths).squeeze()\n",
    "            \n",
    "            #compute loss and accuracy\n",
    "            loss = criterion(predictions, targets)\n",
    "            acc = binary_accuracy(predictions, targets)\n",
    "            \n",
    "            #keep track of loss and accuracy\n",
    "            epoch_loss += loss.item()\n",
    "            epoch_acc += acc.item()\n",
    "        \n",
    "    return epoch_loss / len(iterator), epoch_acc / len(iterator)"
   ]
  },
  {
   "cell_type": "markdown",
   "metadata": {
    "colab_type": "text",
    "id": "-WuVDxCViR6O"
   },
   "source": [
    "## 5. train and evaluate the model"
   ]
  },
  {
   "cell_type": "code",
   "execution_count": null,
   "metadata": {
    "colab": {
     "base_uri": "https://localhost:8080/",
     "height": 1000
    },
    "colab_type": "code",
    "id": "_YeiIK0CiPy9",
    "outputId": "ad9581b7-c22a-42bb-f624-3a30a3d075d1"
   },
   "outputs": [
    {
     "name": "stdout",
     "output_type": "stream",
     "text": [
      "Epoch: 0\n",
      "\tTrain Loss: 0.477 | Train Acc: 82.05%\n",
      "\t Val. Loss: 0.405 |  Val. Acc: 82.76%\n",
      "Epoch: 1\n",
      "\tTrain Loss: 0.376 | Train Acc: 85.51%\n",
      "\t Val. Loss: 0.376 |  Val. Acc: 85.70%\n",
      "Epoch: 2\n",
      "\tTrain Loss: 0.361 | Train Acc: 86.33%\n",
      "\t Val. Loss: 0.400 |  Val. Acc: 83.81%\n",
      "Epoch: 3\n",
      "\tTrain Loss: 0.345 | Train Acc: 87.35%\n",
      "\t Val. Loss: 0.383 |  Val. Acc: 85.46%\n",
      "Epoch: 4\n",
      "\tTrain Loss: 0.350 | Train Acc: 86.87%\n",
      "\t Val. Loss: 0.406 |  Val. Acc: 84.79%\n",
      "Epoch: 5\n",
      "\tTrain Loss: 0.327 | Train Acc: 87.93%\n",
      "\t Val. Loss: 0.384 |  Val. Acc: 85.90%\n",
      "Epoch: 6\n",
      "\tTrain Loss: 0.303 | Train Acc: 88.92%\n",
      "\t Val. Loss: 0.392 |  Val. Acc: 85.49%\n",
      "Epoch: 7\n",
      "\tTrain Loss: 0.292 | Train Acc: 89.18%\n",
      "\t Val. Loss: 0.556 |  Val. Acc: 80.47%\n",
      "Epoch: 8\n",
      "\tTrain Loss: 0.285 | Train Acc: 89.37%\n",
      "\t Val. Loss: 0.399 |  Val. Acc: 85.31%\n",
      "Epoch: 9\n",
      "\tTrain Loss: 0.272 | Train Acc: 89.90%\n",
      "\t Val. Loss: 0.392 |  Val. Acc: 84.63%\n",
      "Epoch: 10\n",
      "\tTrain Loss: 0.265 | Train Acc: 90.20%\n",
      "\t Val. Loss: 0.412 |  Val. Acc: 85.42%\n",
      "Epoch: 11\n",
      "\tTrain Loss: 0.275 | Train Acc: 89.90%\n",
      "\t Val. Loss: 0.417 |  Val. Acc: 85.25%\n",
      "Epoch: 12\n",
      "\tTrain Loss: 0.255 | Train Acc: 90.21%\n",
      "\t Val. Loss: 0.407 |  Val. Acc: 85.49%\n",
      "Epoch: 13\n",
      "\tTrain Loss: 0.248 | Train Acc: 90.74%\n",
      "\t Val. Loss: 0.420 |  Val. Acc: 84.79%\n",
      "Epoch: 14\n",
      "\tTrain Loss: 0.247 | Train Acc: 90.67%\n",
      "\t Val. Loss: 0.417 |  Val. Acc: 84.34%\n",
      "Epoch: 15\n",
      "\tTrain Loss: 0.241 | Train Acc: 91.26%\n",
      "\t Val. Loss: 0.441 |  Val. Acc: 84.70%\n",
      "Epoch: 16\n",
      "\tTrain Loss: 0.230 | Train Acc: 91.40%\n",
      "\t Val. Loss: 0.428 |  Val. Acc: 84.82%\n",
      "Epoch: 17\n",
      "\tTrain Loss: 0.236 | Train Acc: 91.04%\n",
      "\t Val. Loss: 0.431 |  Val. Acc: 84.95%\n",
      "Epoch: 18\n",
      "\tTrain Loss: 0.229 | Train Acc: 91.63%\n",
      "\t Val. Loss: 0.432 |  Val. Acc: 84.35%\n",
      "Epoch: 19\n",
      "\tTrain Loss: 0.218 | Train Acc: 91.87%\n",
      "\t Val. Loss: 0.445 |  Val. Acc: 84.68%\n"
     ]
    }
   ],
   "source": [
    "N_EPOCHS = 20\n",
    "best_valid_loss = float('inf')\n",
    "\n",
    "for epoch in range(N_EPOCHS):\n",
    "     \n",
    "    #train the model\n",
    "    train_loss, train_acc = train(model, train_iterator, optimizer, criterion)\n",
    "    \n",
    "    #evaluate the model\n",
    "    valid_loss, valid_acc = evaluate(model, valid_iterator, criterion)\n",
    "    \n",
    "    #save the best model\n",
    "    if valid_loss < best_valid_loss:\n",
    "        best_valid_loss = valid_loss\n",
    "        torch.save(model.state_dict(), 'saved_weights.pt')\n",
    "    \n",
    "    print('Epoch: {}'.format(epoch))\n",
    "    print(f'\\tTrain Loss: {train_loss:.3f} | Train Acc: {train_acc*100:.2f}%')\n",
    "    print(f'\\t Val. Loss: {valid_loss:.3f} |  Val. Acc: {valid_acc*100:.2f}%')"
   ]
  }
 ],
 "metadata": {
  "accelerator": "GPU",
  "colab": {
   "collapsed_sections": [],
   "include_colab_link": true,
   "name": "LSTM Classifier.ipynb",
   "provenance": []
  },
  "kernelspec": {
   "display_name": "Python 3",
   "language": "python",
   "name": "python3"
  },
  "language_info": {
   "codemirror_mode": {
    "name": "ipython",
    "version": 3
   },
   "file_extension": ".py",
   "mimetype": "text/x-python",
   "name": "python",
   "nbconvert_exporter": "python",
   "pygments_lexer": "ipython3",
   "version": "3.7.4"
  }
 },
 "nbformat": 4,
 "nbformat_minor": 4
}
