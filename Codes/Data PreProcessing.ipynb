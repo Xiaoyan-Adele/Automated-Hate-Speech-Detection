{
 "cells": [
  {
   "cell_type": "code",
   "execution_count": 1,
   "metadata": {},
   "outputs": [
    {
     "data": {
      "text/plain": [
       "0    !!! RT @mayasolovely: As a woman you shouldn't...\n",
       "1    !!!!! RT @mleew17: boy dats cold...tyga dwn ba...\n",
       "2    !!!!!!! RT @UrKindOfBrand Dawg!!!! RT @80sbaby...\n",
       "3    !!!!!!!!! RT @C_G_Anderson: @viva_based she lo...\n",
       "4    !!!!!!!!!!!!! RT @ShenikaRoberts: The shit you...\n",
       "Name: tweet, dtype: object"
      ]
     },
     "execution_count": 1,
     "metadata": {},
     "output_type": "execute_result"
    }
   ],
   "source": [
    "import pandas as pd\n",
    "import numpy as np\n",
    "import pickle\n",
    "import sys\n",
    "#reload(sys)\n",
    "#sys.setdefaultencoding(\"utf-8\")\n",
    "\n",
    "#Loading raw data\n",
    "data_pd = pd.read_csv('C://Users/adele/Documents/GitHub/Automated-Hate-Speech-Detection/Dataset/labeled_data.csv',encoding = 'utf-8',sep=',',index_col=0)\n",
    "data_np = np.asarray(data_pd)\n",
    "\n",
    "#selecting the right column for data preprocessing \n",
    "tweets_pd_preclean = data_pd.iloc[:,5]\n",
    "\n",
    "#inspecting the selected column\n",
    "tweets_pd_preclean.head(5)"
   ]
  },
  {
   "cell_type": "code",
   "execution_count": null,
   "metadata": {},
   "outputs": [
    {
     "name": "stderr",
     "output_type": "stream",
     "text": [
      "[nltk_data] Downloading package punkt to\n",
      "[nltk_data]     C:\\Users\\adele\\AppData\\Roaming\\nltk_data...\n"
     ]
    }
   ],
   "source": [
    "#data pre-processing\n",
    "\n",
    "#removing stopwords\n",
    "import nltk \n",
    "from nltk.corpus import stopwords\n",
    "\n",
    "stop = stopwords.words('english')\n",
    "\n",
    "tweets_pd_removed = tweets_pd_preclean.astype(str).apply(lambda x: ' '.join([word for word in x.split() if word not in (stop)]))\n",
    "\n",
    "\n",
    "# add new column for stemmed text and tokenize\n",
    "nltk.download('punkt')\n",
    "from nltk.stem import SnowballStemmer\n",
    "\n",
    "def tokenization(row):\n",
    "    tweets = tweets_pd_removed\n",
    "    tokens = nltk.word_tokenize(tweets)\n",
    "    token_words = [w for w in tokens if w.isalpha()]\n",
    "    return token_words\n",
    "\n",
    "tweets_pd_removed_tokenized = tweets_pd_removed.apply(tokenization)\n",
    "\n",
    "tweets_pd_removed_tokenized.head(10)"
   ]
  },
  {
   "cell_type": "code",
   "execution_count": null,
   "metadata": {},
   "outputs": [],
   "source": []
  }
 ],
 "metadata": {
  "kernelspec": {
   "display_name": "Python 3",
   "language": "python",
   "name": "python3"
  },
  "language_info": {
   "codemirror_mode": {
    "name": "ipython",
    "version": 3
   },
   "file_extension": ".py",
   "mimetype": "text/x-python",
   "name": "python",
   "nbconvert_exporter": "python",
   "pygments_lexer": "ipython3",
   "version": "3.7.4"
  }
 },
 "nbformat": 4,
 "nbformat_minor": 4
}
